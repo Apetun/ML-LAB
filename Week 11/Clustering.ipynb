{
 "cells": [
  {
   "cell_type": "code",
   "execution_count": 39,
   "id": "a3591407-b93e-4cfb-bd1e-6dab8854e2e5",
   "metadata": {},
   "outputs": [],
   "source": [
    "import numpy as np\n",
    "import pandas as pd\n",
    "import matplotlib.pyplot as plt"
   ]
  },
  {
   "cell_type": "code",
   "execution_count": 40,
   "id": "ca4aee35-78ef-40f7-a091-6643578d0e25",
   "metadata": {},
   "outputs": [
    {
     "name": "stdout",
     "output_type": "stream",
     "text": [
      "[18 22 25 27 42 43] 6 [[0. 0. 0. 0. 0. 0.]\n",
      " [0. 0. 0. 0. 0. 0.]\n",
      " [0. 0. 0. 0. 0. 0.]\n",
      " [0. 0. 0. 0. 0. 0.]\n",
      " [0. 0. 0. 0. 0. 0.]\n",
      " [0. 0. 0. 0. 0. 0.]] [[18], [22], [25], [27], [42], [43]]\n"
     ]
    }
   ],
   "source": [
    "data = np.array([18,22,25,27,42,43])\n",
    "n = len(data)\n",
    "clusters = [[data[i]] for i in range(n)]\n",
    "matrix = np.zeros((n,n))\n",
    "print(data,n,matrix,clusters)"
   ]
  },
  {
   "cell_type": "code",
   "execution_count": 41,
   "id": "336bca00-437b-4b7f-9118-5be3189a4a04",
   "metadata": {},
   "outputs": [
    {
     "name": "stdout",
     "output_type": "stream",
     "text": [
      "[[ 0.  4.  7.  9. 24. 25.]\n",
      " [ 4.  0.  3.  5. 20. 21.]\n",
      " [ 7.  3.  0.  2. 17. 18.]\n",
      " [ 9.  5.  2.  0. 15. 16.]\n",
      " [24. 20. 17. 15.  0.  1.]\n",
      " [25. 21. 18. 16.  1.  0.]]\n"
     ]
    }
   ],
   "source": [
    "for i in range(n):\n",
    "    for j in range(n):\n",
    "        matrix[i][j] = np.abs(data[i] - data[j])\n",
    "print(matrix)"
   ]
  },
  {
   "cell_type": "code",
   "execution_count": 42,
   "id": "798dc008-0460-487d-93a6-eb791d9cc77c",
   "metadata": {},
   "outputs": [
    {
     "name": "stdout",
     "output_type": "stream",
     "text": [
      "Smallest non-zero element: 1.0\n",
      "Indices (i, j): (5, 4)\n",
      "[[ 0.  0.  0.  0.  0.  0.]\n",
      " [ 4.  0.  0.  0.  0.  0.]\n",
      " [ 7.  3.  0.  0.  0.  0.]\n",
      " [ 9.  5.  2.  0.  0.  0.]\n",
      " [24. 20. 17. 15.  0.  0.]\n",
      " [25. 21. 18. 16.  1.  0.]]\n"
     ]
    }
   ],
   "source": [
    "\n",
    "# Extract the lower triangular part, including the diagonal\n",
    "lower_triangular = np.tril(matrix)\n",
    "# Find the minimum non-zero element\n",
    "non_zero_min = np.min(lower_triangular[lower_triangular > 0])\n",
    "# Get the indices of the minimum non-zero element\n",
    "i, j = np.where(lower_triangular == non_zero_min)\n",
    "# Ensure i and j are integer scalars by converting the first elements of i and j\n",
    "i, j = int(i[0]), int(j[0])\n",
    "\n",
    "print(\"Smallest non-zero element:\", non_zero_min)\n",
    "print(\"Indices (i, j):\", (i, j))\n",
    "print(lower_triangular)"
   ]
  },
  {
   "cell_type": "code",
   "execution_count": 43,
   "id": "54553b46-f233-4eda-855e-88ea6f5bb3f3",
   "metadata": {},
   "outputs": [
    {
     "name": "stdout",
     "output_type": "stream",
     "text": [
      "Updated clusters: [[18], [22], [25], [27], [42, 43]]\n"
     ]
    }
   ],
   "source": [
    "# Merge clusters[i] into clusters[j]\n",
    "clusters[j] += clusters[i]\n",
    "\n",
    "# Delete the merged cluster\n",
    "del clusters[i]\n",
    "\n",
    "print(\"Updated clusters:\", clusters)"
   ]
  },
  {
   "cell_type": "code",
   "execution_count": 44,
   "id": "87efeee5-f68a-4c46-b450-4aa5fceac880",
   "metadata": {},
   "outputs": [
    {
     "name": "stdout",
     "output_type": "stream",
     "text": [
      "[[ 0.  4.  7.  9. 24.]\n",
      " [ 4.  0.  3.  5. 20.]\n",
      " [ 7.  3.  0.  2. 17.]\n",
      " [ 9.  5.  2.  0. 15.]\n",
      " [24. 20. 17. 15.  0.]]\n"
     ]
    }
   ],
   "source": [
    "m = len(clusters)\n",
    "matrix = np.zeros((m,m))\n",
    "for i in range(m):\n",
    "    for j in range(m):\n",
    "        matrix[i][j] = np.min([np.abs(p1 - p2) for p1 in clusters[i] for p2 in clusters[j]])\n",
    "print(matrix)"
   ]
  },
  {
   "cell_type": "code",
   "execution_count": 45,
   "id": "8695b7d3-828e-482f-9ffc-c2b9cbbfacbc",
   "metadata": {},
   "outputs": [
    {
     "name": "stdout",
     "output_type": "stream",
     "text": [
      "Smallest non-zero element: 2.0\n",
      "Indices (i, j): (3, 2)\n",
      "[[ 0.  0.  0.  0.  0.]\n",
      " [ 4.  0.  0.  0.  0.]\n",
      " [ 7.  3.  0.  0.  0.]\n",
      " [ 9.  5.  2.  0.  0.]\n",
      " [24. 20. 17. 15.  0.]]\n"
     ]
    }
   ],
   "source": [
    "# Extract the lower triangular part, including the diagonal\n",
    "lower_triangular = np.tril(matrix)\n",
    "# Find the minimum non-zero element\n",
    "non_zero_min = np.min(lower_triangular[lower_triangular > 0])\n",
    "# Get the indices of the minimum non-zero element\n",
    "i, j = np.where(lower_triangular == non_zero_min)\n",
    "i, j = int(i[0]), int(j[0])\n",
    "\n",
    "print(\"Smallest non-zero element:\", non_zero_min)\n",
    "print(\"Indices (i, j):\", (i, j))\n",
    "print(lower_triangular)"
   ]
  },
  {
   "cell_type": "code",
   "execution_count": 46,
   "id": "356ee879-391f-4b45-a74c-07cbd1865cb9",
   "metadata": {},
   "outputs": [
    {
     "name": "stdout",
     "output_type": "stream",
     "text": [
      "Updated clusters: [[18], [22], [25, 27], [42, 43]]\n"
     ]
    }
   ],
   "source": [
    "# Merge clusters[i] into clusters[j]\n",
    "clusters[j] += clusters[i]\n",
    "\n",
    "# Delete the merged cluster\n",
    "del clusters[i]\n",
    "\n",
    "print(\"Updated clusters:\", clusters)"
   ]
  },
  {
   "cell_type": "code",
   "execution_count": 47,
   "id": "b0f1133e-3969-4604-a7d6-696ac42e948a",
   "metadata": {},
   "outputs": [
    {
     "name": "stdout",
     "output_type": "stream",
     "text": [
      "[[ 0.  4.  7. 24.]\n",
      " [ 4.  0.  3. 20.]\n",
      " [ 7.  3.  0. 15.]\n",
      " [24. 20. 15.  0.]]\n"
     ]
    }
   ],
   "source": [
    "m = len(clusters)\n",
    "matrix = np.zeros((m,m))\n",
    "for i in range(m):\n",
    "    for j in range(m):\n",
    "        matrix[i][j] = np.min([np.abs(p1 - p2) for p1 in clusters[i] for p2 in clusters[j]])\n",
    "print(matrix)"
   ]
  },
  {
   "cell_type": "code",
   "execution_count": 48,
   "id": "40c1eb59-e3ed-459c-b053-44bdd98ebfdb",
   "metadata": {},
   "outputs": [],
   "source": [
    "data = np.array([(1, 1), (3, 2), (9, 1), (3, 7), (7, 2), \n",
    "                   (9, 7), (4, 8), (8, 3), (1, 4)])"
   ]
  },
  {
   "cell_type": "code",
   "execution_count": 49,
   "id": "4b0e4ab3-f3a0-4511-852d-b92995546aa0",
   "metadata": {},
   "outputs": [],
   "source": [
    "n = len(data)\n",
    "clusters = [[data[i]] for i in range(n)]"
   ]
  },
  {
   "cell_type": "code",
   "execution_count": 50,
   "id": "89e16b4a-7562-4250-840b-f2ff352d4350",
   "metadata": {},
   "outputs": [
    {
     "name": "stdout",
     "output_type": "stream",
     "text": [
      "[[array([1, 1])], [array([3, 2])], [array([9, 1])], [array([3, 7])], [array([7, 2])], [array([9, 7])], [array([4, 8])], [array([8, 3])], [array([1, 4])]]\n"
     ]
    }
   ],
   "source": [
    "print(clusters)"
   ]
  },
  {
   "cell_type": "code",
   "execution_count": null,
   "id": "1c55f9a3-82b7-44ba-a73f-afa82a6e5c30",
   "metadata": {},
   "outputs": [],
   "source": []
  }
 ],
 "metadata": {
  "kernelspec": {
   "display_name": "Python 3 (ipykernel)",
   "language": "python",
   "name": "python3"
  },
  "language_info": {
   "codemirror_mode": {
    "name": "ipython",
    "version": 3
   },
   "file_extension": ".py",
   "mimetype": "text/x-python",
   "name": "python",
   "nbconvert_exporter": "python",
   "pygments_lexer": "ipython3",
   "version": "3.12.4"
  }
 },
 "nbformat": 4,
 "nbformat_minor": 5
}
