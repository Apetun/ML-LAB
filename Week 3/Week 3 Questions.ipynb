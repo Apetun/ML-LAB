{
 "cells": [
  {
   "cell_type": "code",
   "execution_count": 317,
   "id": "9f62ffea",
   "metadata": {},
   "outputs": [],
   "source": [
    "import pandas as pd\n",
    "import numpy as np\n",
    "import matplotlib.pyplot as plt"
   ]
  },
  {
   "cell_type": "markdown",
   "id": "ee6f0855",
   "metadata": {},
   "source": [
    "### Question 1"
   ]
  },
  {
   "cell_type": "markdown",
   "id": "241434dd",
   "metadata": {},
   "source": [
    "### Hepatitis Dataset"
   ]
  },
  {
   "cell_type": "code",
   "execution_count": 318,
   "id": "4fcc438d",
   "metadata": {},
   "outputs": [
    {
     "name": "stdout",
     "output_type": "stream",
     "text": [
      "Index(['age', 'sex', 'steroid', 'antivirals', 'fatigue', 'malaise', 'anorexia',\n",
      "       'liver_big', 'liver_firm', 'spleen_palpable', 'spiders', 'ascites',\n",
      "       'varices', 'bilirubin', 'alk_phosphate', 'sgot', 'albumin', 'protime',\n",
      "       'histology', 'class'],\n",
      "      dtype='object')\n",
      "(155, 20)\n"
     ]
    },
    {
     "data": {
      "text/html": [
       "<div>\n",
       "<style scoped>\n",
       "    .dataframe tbody tr th:only-of-type {\n",
       "        vertical-align: middle;\n",
       "    }\n",
       "\n",
       "    .dataframe tbody tr th {\n",
       "        vertical-align: top;\n",
       "    }\n",
       "\n",
       "    .dataframe thead th {\n",
       "        text-align: right;\n",
       "    }\n",
       "</style>\n",
       "<table border=\"1\" class=\"dataframe\">\n",
       "  <thead>\n",
       "    <tr style=\"text-align: right;\">\n",
       "      <th></th>\n",
       "      <th>age</th>\n",
       "      <th>sex</th>\n",
       "      <th>steroid</th>\n",
       "      <th>antivirals</th>\n",
       "      <th>fatigue</th>\n",
       "      <th>malaise</th>\n",
       "      <th>anorexia</th>\n",
       "      <th>liver_big</th>\n",
       "      <th>liver_firm</th>\n",
       "      <th>spleen_palpable</th>\n",
       "      <th>spiders</th>\n",
       "      <th>ascites</th>\n",
       "      <th>varices</th>\n",
       "      <th>bilirubin</th>\n",
       "      <th>alk_phosphate</th>\n",
       "      <th>sgot</th>\n",
       "      <th>albumin</th>\n",
       "      <th>protime</th>\n",
       "      <th>histology</th>\n",
       "      <th>class</th>\n",
       "    </tr>\n",
       "  </thead>\n",
       "  <tbody>\n",
       "    <tr>\n",
       "      <th>0</th>\n",
       "      <td>30</td>\n",
       "      <td>male</td>\n",
       "      <td>False</td>\n",
       "      <td>False</td>\n",
       "      <td>False</td>\n",
       "      <td>False</td>\n",
       "      <td>False</td>\n",
       "      <td>False</td>\n",
       "      <td>False</td>\n",
       "      <td>False</td>\n",
       "      <td>False</td>\n",
       "      <td>False</td>\n",
       "      <td>False</td>\n",
       "      <td>1.0</td>\n",
       "      <td>85.0</td>\n",
       "      <td>18.0</td>\n",
       "      <td>4.0</td>\n",
       "      <td>NaN</td>\n",
       "      <td>False</td>\n",
       "      <td>live</td>\n",
       "    </tr>\n",
       "    <tr>\n",
       "      <th>1</th>\n",
       "      <td>50</td>\n",
       "      <td>female</td>\n",
       "      <td>False</td>\n",
       "      <td>False</td>\n",
       "      <td>True</td>\n",
       "      <td>False</td>\n",
       "      <td>False</td>\n",
       "      <td>False</td>\n",
       "      <td>False</td>\n",
       "      <td>False</td>\n",
       "      <td>False</td>\n",
       "      <td>False</td>\n",
       "      <td>False</td>\n",
       "      <td>0.9</td>\n",
       "      <td>135.0</td>\n",
       "      <td>42.0</td>\n",
       "      <td>3.5</td>\n",
       "      <td>NaN</td>\n",
       "      <td>False</td>\n",
       "      <td>live</td>\n",
       "    </tr>\n",
       "    <tr>\n",
       "      <th>2</th>\n",
       "      <td>78</td>\n",
       "      <td>female</td>\n",
       "      <td>True</td>\n",
       "      <td>False</td>\n",
       "      <td>True</td>\n",
       "      <td>False</td>\n",
       "      <td>False</td>\n",
       "      <td>True</td>\n",
       "      <td>False</td>\n",
       "      <td>False</td>\n",
       "      <td>False</td>\n",
       "      <td>False</td>\n",
       "      <td>False</td>\n",
       "      <td>0.7</td>\n",
       "      <td>96.0</td>\n",
       "      <td>32.0</td>\n",
       "      <td>4.0</td>\n",
       "      <td>NaN</td>\n",
       "      <td>False</td>\n",
       "      <td>live</td>\n",
       "    </tr>\n",
       "    <tr>\n",
       "      <th>3</th>\n",
       "      <td>31</td>\n",
       "      <td>female</td>\n",
       "      <td>NaN</td>\n",
       "      <td>True</td>\n",
       "      <td>False</td>\n",
       "      <td>False</td>\n",
       "      <td>False</td>\n",
       "      <td>True</td>\n",
       "      <td>False</td>\n",
       "      <td>False</td>\n",
       "      <td>False</td>\n",
       "      <td>False</td>\n",
       "      <td>False</td>\n",
       "      <td>0.7</td>\n",
       "      <td>46.0</td>\n",
       "      <td>52.0</td>\n",
       "      <td>4.0</td>\n",
       "      <td>80.0</td>\n",
       "      <td>False</td>\n",
       "      <td>live</td>\n",
       "    </tr>\n",
       "    <tr>\n",
       "      <th>4</th>\n",
       "      <td>34</td>\n",
       "      <td>female</td>\n",
       "      <td>True</td>\n",
       "      <td>False</td>\n",
       "      <td>False</td>\n",
       "      <td>False</td>\n",
       "      <td>False</td>\n",
       "      <td>True</td>\n",
       "      <td>False</td>\n",
       "      <td>False</td>\n",
       "      <td>False</td>\n",
       "      <td>False</td>\n",
       "      <td>False</td>\n",
       "      <td>1.0</td>\n",
       "      <td>NaN</td>\n",
       "      <td>200.0</td>\n",
       "      <td>4.0</td>\n",
       "      <td>NaN</td>\n",
       "      <td>False</td>\n",
       "      <td>live</td>\n",
       "    </tr>\n",
       "  </tbody>\n",
       "</table>\n",
       "</div>"
      ],
      "text/plain": [
       "   age     sex steroid  antivirals fatigue malaise anorexia liver_big  \\\n",
       "0   30    male   False       False   False   False    False     False   \n",
       "1   50  female   False       False    True   False    False     False   \n",
       "2   78  female    True       False    True   False    False      True   \n",
       "3   31  female     NaN        True   False   False    False      True   \n",
       "4   34  female    True       False   False   False    False      True   \n",
       "\n",
       "  liver_firm spleen_palpable spiders ascites varices  bilirubin  \\\n",
       "0      False           False   False   False   False        1.0   \n",
       "1      False           False   False   False   False        0.9   \n",
       "2      False           False   False   False   False        0.7   \n",
       "3      False           False   False   False   False        0.7   \n",
       "4      False           False   False   False   False        1.0   \n",
       "\n",
       "   alk_phosphate   sgot  albumin  protime  histology class  \n",
       "0           85.0   18.0      4.0      NaN      False  live  \n",
       "1          135.0   42.0      3.5      NaN      False  live  \n",
       "2           96.0   32.0      4.0      NaN      False  live  \n",
       "3           46.0   52.0      4.0     80.0      False  live  \n",
       "4            NaN  200.0      4.0      NaN      False  live  "
      ]
     },
     "execution_count": 318,
     "metadata": {},
     "output_type": "execute_result"
    }
   ],
   "source": [
    "data=pd.read_csv('hepatitis_csv.csv')\n",
    "print(data.columns)\n",
    "print(data.shape)\n",
    "data.head()"
   ]
  },
  {
   "cell_type": "code",
   "execution_count": 319,
   "id": "051db898",
   "metadata": {},
   "outputs": [
    {
     "data": {
      "text/html": [
       "<div>\n",
       "<style scoped>\n",
       "    .dataframe tbody tr th:only-of-type {\n",
       "        vertical-align: middle;\n",
       "    }\n",
       "\n",
       "    .dataframe tbody tr th {\n",
       "        vertical-align: top;\n",
       "    }\n",
       "\n",
       "    .dataframe thead th {\n",
       "        text-align: right;\n",
       "    }\n",
       "</style>\n",
       "<table border=\"1\" class=\"dataframe\">\n",
       "  <thead>\n",
       "    <tr style=\"text-align: right;\">\n",
       "      <th></th>\n",
       "      <th>age</th>\n",
       "      <th>sex</th>\n",
       "      <th>steroid</th>\n",
       "      <th>antivirals</th>\n",
       "      <th>fatigue</th>\n",
       "      <th>malaise</th>\n",
       "      <th>anorexia</th>\n",
       "      <th>liver_big</th>\n",
       "      <th>liver_firm</th>\n",
       "      <th>spleen_palpable</th>\n",
       "      <th>spiders</th>\n",
       "      <th>ascites</th>\n",
       "      <th>varices</th>\n",
       "      <th>bilirubin</th>\n",
       "      <th>alk_phosphate</th>\n",
       "      <th>sgot</th>\n",
       "      <th>albumin</th>\n",
       "      <th>protime</th>\n",
       "      <th>histology</th>\n",
       "      <th>class</th>\n",
       "    </tr>\n",
       "  </thead>\n",
       "  <tbody>\n",
       "    <tr>\n",
       "      <th>0</th>\n",
       "      <td>30</td>\n",
       "      <td>1</td>\n",
       "      <td>False</td>\n",
       "      <td>False</td>\n",
       "      <td>False</td>\n",
       "      <td>False</td>\n",
       "      <td>False</td>\n",
       "      <td>False</td>\n",
       "      <td>False</td>\n",
       "      <td>False</td>\n",
       "      <td>False</td>\n",
       "      <td>False</td>\n",
       "      <td>False</td>\n",
       "      <td>1.0</td>\n",
       "      <td>85.0</td>\n",
       "      <td>18.0</td>\n",
       "      <td>4.0</td>\n",
       "      <td>NaN</td>\n",
       "      <td>False</td>\n",
       "      <td>1</td>\n",
       "    </tr>\n",
       "    <tr>\n",
       "      <th>1</th>\n",
       "      <td>50</td>\n",
       "      <td>0</td>\n",
       "      <td>False</td>\n",
       "      <td>False</td>\n",
       "      <td>True</td>\n",
       "      <td>False</td>\n",
       "      <td>False</td>\n",
       "      <td>False</td>\n",
       "      <td>False</td>\n",
       "      <td>False</td>\n",
       "      <td>False</td>\n",
       "      <td>False</td>\n",
       "      <td>False</td>\n",
       "      <td>0.9</td>\n",
       "      <td>135.0</td>\n",
       "      <td>42.0</td>\n",
       "      <td>3.5</td>\n",
       "      <td>NaN</td>\n",
       "      <td>False</td>\n",
       "      <td>1</td>\n",
       "    </tr>\n",
       "    <tr>\n",
       "      <th>2</th>\n",
       "      <td>78</td>\n",
       "      <td>0</td>\n",
       "      <td>True</td>\n",
       "      <td>False</td>\n",
       "      <td>True</td>\n",
       "      <td>False</td>\n",
       "      <td>False</td>\n",
       "      <td>True</td>\n",
       "      <td>False</td>\n",
       "      <td>False</td>\n",
       "      <td>False</td>\n",
       "      <td>False</td>\n",
       "      <td>False</td>\n",
       "      <td>0.7</td>\n",
       "      <td>96.0</td>\n",
       "      <td>32.0</td>\n",
       "      <td>4.0</td>\n",
       "      <td>NaN</td>\n",
       "      <td>False</td>\n",
       "      <td>1</td>\n",
       "    </tr>\n",
       "    <tr>\n",
       "      <th>3</th>\n",
       "      <td>31</td>\n",
       "      <td>0</td>\n",
       "      <td>NaN</td>\n",
       "      <td>True</td>\n",
       "      <td>False</td>\n",
       "      <td>False</td>\n",
       "      <td>False</td>\n",
       "      <td>True</td>\n",
       "      <td>False</td>\n",
       "      <td>False</td>\n",
       "      <td>False</td>\n",
       "      <td>False</td>\n",
       "      <td>False</td>\n",
       "      <td>0.7</td>\n",
       "      <td>46.0</td>\n",
       "      <td>52.0</td>\n",
       "      <td>4.0</td>\n",
       "      <td>80.0</td>\n",
       "      <td>False</td>\n",
       "      <td>1</td>\n",
       "    </tr>\n",
       "    <tr>\n",
       "      <th>4</th>\n",
       "      <td>34</td>\n",
       "      <td>0</td>\n",
       "      <td>True</td>\n",
       "      <td>False</td>\n",
       "      <td>False</td>\n",
       "      <td>False</td>\n",
       "      <td>False</td>\n",
       "      <td>True</td>\n",
       "      <td>False</td>\n",
       "      <td>False</td>\n",
       "      <td>False</td>\n",
       "      <td>False</td>\n",
       "      <td>False</td>\n",
       "      <td>1.0</td>\n",
       "      <td>NaN</td>\n",
       "      <td>200.0</td>\n",
       "      <td>4.0</td>\n",
       "      <td>NaN</td>\n",
       "      <td>False</td>\n",
       "      <td>1</td>\n",
       "    </tr>\n",
       "  </tbody>\n",
       "</table>\n",
       "</div>"
      ],
      "text/plain": [
       "   age  sex steroid  antivirals fatigue malaise anorexia liver_big liver_firm  \\\n",
       "0   30    1   False       False   False   False    False     False      False   \n",
       "1   50    0   False       False    True   False    False     False      False   \n",
       "2   78    0    True       False    True   False    False      True      False   \n",
       "3   31    0     NaN        True   False   False    False      True      False   \n",
       "4   34    0    True       False   False   False    False      True      False   \n",
       "\n",
       "  spleen_palpable spiders ascites varices  bilirubin  alk_phosphate   sgot  \\\n",
       "0           False   False   False   False        1.0           85.0   18.0   \n",
       "1           False   False   False   False        0.9          135.0   42.0   \n",
       "2           False   False   False   False        0.7           96.0   32.0   \n",
       "3           False   False   False   False        0.7           46.0   52.0   \n",
       "4           False   False   False   False        1.0            NaN  200.0   \n",
       "\n",
       "   albumin  protime  histology  class  \n",
       "0      4.0      NaN      False      1  \n",
       "1      3.5      NaN      False      1  \n",
       "2      4.0      NaN      False      1  \n",
       "3      4.0     80.0      False      1  \n",
       "4      4.0      NaN      False      1  "
      ]
     },
     "execution_count": 319,
     "metadata": {},
     "output_type": "execute_result"
    }
   ],
   "source": [
    "mapping = {\n",
    "    'male': 1,\n",
    "    'female': 0,\n",
    "    'live': 1,\n",
    "    'die': 0\n",
    "}\n",
    "\n",
    "for column in data.columns:\n",
    "    unique_values = data[column].unique()\n",
    "    if set(unique_values).issubset(set(mapping.keys())):\n",
    "        data[column] = data[column].map(mapping)\n",
    "data.head()"
   ]
  },
  {
   "cell_type": "code",
   "execution_count": 320,
   "id": "bff8cc29",
   "metadata": {},
   "outputs": [
    {
     "name": "stdout",
     "output_type": "stream",
     "text": [
      "<class 'pandas.core.frame.DataFrame'>\n",
      "RangeIndex: 155 entries, 0 to 154\n",
      "Data columns (total 20 columns):\n",
      " #   Column           Non-Null Count  Dtype  \n",
      "---  ------           --------------  -----  \n",
      " 0   age              155 non-null    int64  \n",
      " 1   sex              155 non-null    int64  \n",
      " 2   steroid          155 non-null    object \n",
      " 3   antivirals       155 non-null    bool   \n",
      " 4   fatigue          155 non-null    object \n",
      " 5   malaise          155 non-null    object \n",
      " 6   anorexia         155 non-null    object \n",
      " 7   liver_big        155 non-null    object \n",
      " 8   liver_firm       155 non-null    object \n",
      " 9   spleen_palpable  155 non-null    object \n",
      " 10  spiders          155 non-null    object \n",
      " 11  ascites          155 non-null    object \n",
      " 12  varices          155 non-null    object \n",
      " 13  bilirubin        155 non-null    float64\n",
      " 14  alk_phosphate    155 non-null    float64\n",
      " 15  sgot             155 non-null    float64\n",
      " 16  albumin          155 non-null    float64\n",
      " 17  protime          155 non-null    float64\n",
      " 18  histology        155 non-null    bool   \n",
      " 19  class            155 non-null    int64  \n",
      "dtypes: bool(2), float64(5), int64(3), object(10)\n",
      "memory usage: 22.2+ KB\n"
     ]
    }
   ],
   "source": [
    "data = data.fillna(data.median())\n",
    "data.info()"
   ]
  },
  {
   "cell_type": "code",
   "execution_count": 321,
   "id": "768706c7",
   "metadata": {},
   "outputs": [],
   "source": [
    "X = data.drop('class', axis=1).to_numpy() \n",
    "y = data['class'].to_numpy()  "
   ]
  },
  {
   "cell_type": "code",
   "execution_count": 322,
   "id": "0701bccf",
   "metadata": {},
   "outputs": [],
   "source": [
    "indices = np.arange(X.shape[0])\n",
    "test_size = 0.2\n",
    "split_index = int(X.shape[0] * (1 - test_size))\n",
    "\n",
    "train_indices = indices[:split_index]\n",
    "test_indices = indices[split_index:]\n",
    "\n",
    "X_train = X[train_indices]\n",
    "X_test = X[test_indices]\n",
    "y_train = y[train_indices]\n",
    "y_test = y[test_indices]\n",
    "\n",
    "data.to_csv('hepatitis_clean.csv', index=False)"
   ]
  },
  {
   "cell_type": "markdown",
   "id": "a8a8f3d4",
   "metadata": {},
   "source": [
    "### Question 2"
   ]
  },
  {
   "cell_type": "markdown",
   "id": "025bdff3",
   "metadata": {},
   "source": [
    "#### a. Construct a CSV file with the following attributes: Study time in hours of ML lab course (x) , Score out of 10 (y) , The dataset should contain 10 rows."
   ]
  },
  {
   "cell_type": "code",
   "execution_count": 323,
   "id": "cbcbf02e",
   "metadata": {},
   "outputs": [],
   "source": [
    "data = {\n",
    "    'StudyTime': [1, 2, 3, 4, 5, 7, 8, 9, 11, 12], \n",
    "    'Score': [2, 3, 5, 6, 7, 8, 8, 9, 10, 11]       \n",
    "}\n",
    "\n",
    "df = pd.DataFrame(data)\n",
    "df.to_csv('study_score.csv', index=False)"
   ]
  },
  {
   "cell_type": "markdown",
   "id": "71bb2322",
   "metadata": {},
   "source": [
    "#### b. Create a regression model and display the following:Coefficients: B0 (intercept) and B1 (slope) , RMSE (Root Mean Square Error) , Predicted responses"
   ]
  },
  {
   "cell_type": "code",
   "execution_count": 324,
   "id": "4d9cc36d",
   "metadata": {},
   "outputs": [],
   "source": [
    "X=df['StudyTime'].to_numpy()\n",
    "Y=df['Score'].to_numpy()"
   ]
  },
  {
   "cell_type": "markdown",
   "id": "b1d8d0dd",
   "metadata": {},
   "source": [
    "#### Pedahzur Formula"
   ]
  },
  {
   "cell_type": "code",
   "execution_count": 325,
   "id": "634135dc",
   "metadata": {},
   "outputs": [
    {
     "name": "stdout",
     "output_type": "stream",
     "text": [
      "0.7499999999999999x + 2.250000000000001\n",
      "[ 3.    3.75  4.5   5.25  6.    7.5   8.25  9.   10.5  11.25]\n",
      "0.6324555320336761\n"
     ]
    }
   ],
   "source": [
    "b1_pedahzur=np.sum((X-X.mean())*(Y-Y.mean()))/np.sum((X-X.mean())**2)\n",
    "b0_pedahzur=Y.mean()-(b1_pedahzur*X.mean())\n",
    "\n",
    "y_pedahzur = b0_pedahzur + b1_pedahzur * X\n",
    "squared_errors = (Y - y_pedahzur) ** 2\n",
    "rmse_pedahzur = np.sqrt(np.mean(squared_errors))\n",
    "\n",
    "print(f\"{b1_pedahzur}x + {b0_pedahzur}\")\n",
    "print(y_pedahzur)\n",
    "print(rmse_pedahzur)"
   ]
  },
  {
   "cell_type": "markdown",
   "id": "13dd191a",
   "metadata": {},
   "source": [
    "#### Calculus Method"
   ]
  },
  {
   "cell_type": "code",
   "execution_count": 326,
   "id": "e55bf695",
   "metadata": {},
   "outputs": [
    {
     "name": "stdout",
     "output_type": "stream",
     "text": [
      "0.7500000000000004x + 2.2500000000000036\n",
      "[ 3.    3.75  4.5   5.25  6.    7.5   8.25  9.   10.5  11.25]\n",
      "0.6324555320336759\n"
     ]
    }
   ],
   "source": [
    "mat1=np.array([[len(X),np.sum(X)],[np.sum(X),np.sum(X**2)]])\n",
    "mat2=np.array([[np.sum(Y),np.sum(X*Y)]])\n",
    "coeffs=np.dot(np.linalg.inv(mat1),mat2.T)\n",
    "b0_mat,b1_mat=coeffs[0,0],coeffs[1,0]\n",
    "\n",
    "y_mat = b0_mat + b1_mat * X\n",
    "squared_errors = (Y - y_mat) ** 2\n",
    "rmse_mat = np.sqrt(np.mean(squared_errors))\n",
    "\n",
    "print(f\"{b1_mat}x + {b0_mat}\")\n",
    "print(y_mat)\n",
    "print(rmse_mat)"
   ]
  },
  {
   "cell_type": "markdown",
   "id": "38a58ec3",
   "metadata": {},
   "source": [
    "#### Predicted Output using sklearn"
   ]
  },
  {
   "cell_type": "code",
   "execution_count": 327,
   "id": "a0bb993b",
   "metadata": {},
   "outputs": [
    {
     "name": "stdout",
     "output_type": "stream",
     "text": [
      "scikit-learn - B0 (Intercept): 2.250000000000001\n",
      "scikit-learn - B1 (Slope): 0.7499999999999999\n",
      "[ 3.    3.75  4.5   5.25  6.    7.5   8.25  9.   10.5  11.25]\n",
      "0.6324555320336761\n"
     ]
    }
   ],
   "source": [
    "from sklearn.linear_model import LinearRegression\n",
    "from sklearn.metrics import mean_squared_error\n",
    "\n",
    "X = df[['StudyTime']].values \n",
    "y = df['Score'].values \n",
    "model = LinearRegression()\n",
    "model.fit(X, y)\n",
    "B1 = model.coef_[0]\n",
    "B0 = model.intercept_\n",
    "\n",
    "y_sklearn = model.predict(X)\n",
    "rmse_sklearn = np.sqrt(mean_squared_error(y, y_sklearn))\n",
    "\n",
    "\n",
    "print(f\"scikit-learn - B0 (Intercept): {B0}\")\n",
    "print(f\"scikit-learn - B1 (Slope): {B1}\")\n",
    "print(y_sklearn)\n",
    "print(rmse_sklearn)"
   ]
  },
  {
   "cell_type": "code",
   "execution_count": 328,
   "id": "3e5e3862",
   "metadata": {},
   "outputs": [
    {
     "data": {
      "image/png": "[encoded data removed]",
      "text/plain": [
       "<Figure size 1200x800 with 1 Axes>"
      ]
     },
     "metadata": {},
     "output_type": "display_data"
    }
   ],
   "source": [
    "plt.figure(figsize=(12, 8))\n",
    "\n",
    "\n",
    "plt.scatter(X, Y, color='red', label='Data Points')\n",
    "plt.plot(X, y_pedahzur, color='blue', label=f'Pedahzur: {b1_pedahzur}x + {b0_pedahzur}')\n",
    "\n",
    "plt.xlabel('StudyTime')\n",
    "plt.ylabel('Score')\n",
    "plt.title('Scatter Plot with Regression Lines')\n",
    "plt.legend()\n",
    "plt.show()"
   ]
  },
  {
   "cell_type": "markdown",
   "id": "af0034ea",
   "metadata": {},
   "source": [
    "### Additional Question"
   ]
  },
  {
   "cell_type": "code",
   "execution_count": 329,
   "id": "b47bd1f6",
   "metadata": {},
   "outputs": [],
   "source": [
    "df = pd.read_csv('hepatitis_clean.csv')\n",
    "X = df['bilirubin'].to_numpy()  \n",
    "Y = df['age'].to_numpy()  "
   ]
  },
  {
   "cell_type": "code",
   "execution_count": 330,
   "id": "52d6b521",
   "metadata": {},
   "outputs": [
    {
     "name": "stdout",
     "output_type": "stream",
     "text": [
      "1.215314417852649x + 39.48523056010082\n",
      "[40.70054498 40.57901354 40.33595065 40.33595065 40.70054498 40.57901354\n",
      " 40.70054498 40.70054498 40.33595065 40.70054498 41.0651393  40.70054498\n",
      " 40.57901354 42.15892228 40.70054498 41.9158594  40.94360786 40.21441921\n",
      " 40.33595065 40.33595065 40.57901354 40.94360786 40.70054498 40.57901354\n",
      " 39.97135633 40.45748209 40.21441921 41.18667075 41.0651393  40.70054498\n",
      " 42.28045372 40.70054498 40.33595065 40.09288777 40.57901354 40.21441921\n",
      " 41.0651393  42.28045372 40.70054498 39.84982489 40.33595065 45.07567688\n",
      " 40.70054498 40.33595065 40.70054498 40.33595065 40.21441921 41.67279651\n",
      " 40.45748209 40.33595065 40.57901354 40.70054498 40.21441921 40.94360786\n",
      " 40.33595065 40.45748209 40.70054498 40.33595065 40.70054498 40.70054498\n",
      " 40.33595065 40.33595065 43.73883102 40.33595065 40.45748209 40.45748209\n",
      " 40.33595065 44.46801967 40.70054498 41.42973363 40.45748209 42.88811093\n",
      " 40.57901354 40.70054498 41.30820219 40.70054498 41.9158594  40.21441921\n",
      " 40.70054498 40.33595065 40.45748209 40.33595065 40.33595065 41.30820219\n",
      " 41.0651393  41.42973363 40.57901354 42.5235166  40.94360786 40.21441921\n",
      " 40.57901354 45.07567688 40.70054498 41.30820219 41.30820219 40.21441921\n",
      " 40.45748209 43.13117381 41.9158594  40.70054498 45.31873977 40.33595065\n",
      " 42.40198516 45.07567688 41.55126507 40.21441921 41.30820219 42.28045372\n",
      " 40.70054498 40.33595065 40.33595065 40.09288777 40.70054498 40.94360786\n",
      " 40.82207642 43.3742367  40.70054498 40.70054498 40.70054498 43.3742367\n",
      " 43.00964237 40.70054498 41.30820219 40.57901354 40.70054498 40.33595065\n",
      " 40.70054498 42.88811093 40.94360786 45.07567688 40.70054498 49.2077459\n",
      " 41.9158594  40.70054498 39.97135633 41.0651393  40.45748209 41.42973363\n",
      " 40.70054498 41.0651393  41.55126507 44.22495679 40.70054498 41.18667075\n",
      " 41.79432795 40.94360786 44.58955112 41.55126507 40.57901354 40.21441921\n",
      " 48.72162014 40.57901354 40.45748209 41.30820219 40.94360786]\n",
      "12.441880654232367\n"
     ]
    }
   ],
   "source": [
    "b1_pedahzur=np.sum((X-X.mean())*(Y-Y.mean()))/np.sum((X-X.mean())**2)\n",
    "b0_pedahzur=Y.mean()-(b1_pedahzur*X.mean())\n",
    "\n",
    "y_pedahzur = b0_pedahzur + b1_pedahzur * X\n",
    "squared_errors = (Y - y_pedahzur) ** 2\n",
    "rmse_pedahzur = np.sqrt(np.mean(squared_errors))\n",
    "\n",
    "print(f\"{b1_pedahzur}x + {b0_pedahzur}\")\n",
    "print(y_pedahzur)\n",
    "print(rmse_pedahzur)"
   ]
  },
  {
   "cell_type": "code",
   "execution_count": 331,
   "id": "e1173c69",
   "metadata": {},
   "outputs": [
    {
     "name": "stdout",
     "output_type": "stream",
     "text": [
      "1.2153144178526603x + 39.485230560100796\n",
      "[40.70054498 40.57901354 40.33595065 40.33595065 40.70054498 40.57901354\n",
      " 40.70054498 40.70054498 40.33595065 40.70054498 41.0651393  40.70054498\n",
      " 40.57901354 42.15892228 40.70054498 41.9158594  40.94360786 40.21441921\n",
      " 40.33595065 40.33595065 40.57901354 40.94360786 40.70054498 40.57901354\n",
      " 39.97135633 40.45748209 40.21441921 41.18667075 41.0651393  40.70054498\n",
      " 42.28045372 40.70054498 40.33595065 40.09288777 40.57901354 40.21441921\n",
      " 41.0651393  42.28045372 40.70054498 39.84982489 40.33595065 45.07567688\n",
      " 40.70054498 40.33595065 40.70054498 40.33595065 40.21441921 41.67279651\n",
      " 40.45748209 40.33595065 40.57901354 40.70054498 40.21441921 40.94360786\n",
      " 40.33595065 40.45748209 40.70054498 40.33595065 40.70054498 40.70054498\n",
      " 40.33595065 40.33595065 43.73883102 40.33595065 40.45748209 40.45748209\n",
      " 40.33595065 44.46801967 40.70054498 41.42973363 40.45748209 42.88811093\n",
      " 40.57901354 40.70054498 41.30820219 40.70054498 41.9158594  40.21441921\n",
      " 40.70054498 40.33595065 40.45748209 40.33595065 40.33595065 41.30820219\n",
      " 41.0651393  41.42973363 40.57901354 42.5235166  40.94360786 40.21441921\n",
      " 40.57901354 45.07567688 40.70054498 41.30820219 41.30820219 40.21441921\n",
      " 40.45748209 43.13117381 41.9158594  40.70054498 45.31873977 40.33595065\n",
      " 42.40198516 45.07567688 41.55126507 40.21441921 41.30820219 42.28045372\n",
      " 40.70054498 40.33595065 40.33595065 40.09288777 40.70054498 40.94360786\n",
      " 40.82207642 43.3742367  40.70054498 40.70054498 40.70054498 43.3742367\n",
      " 43.00964237 40.70054498 41.30820219 40.57901354 40.70054498 40.33595065\n",
      " 40.70054498 42.88811093 40.94360786 45.07567688 40.70054498 49.2077459\n",
      " 41.9158594  40.70054498 39.97135633 41.0651393  40.45748209 41.42973363\n",
      " 40.70054498 41.0651393  41.55126507 44.22495679 40.70054498 41.18667075\n",
      " 41.79432795 40.94360786 44.58955112 41.55126507 40.57901354 40.21441921\n",
      " 48.72162014 40.57901354 40.45748209 41.30820219 40.94360786]\n",
      "12.441880654232367\n"
     ]
    }
   ],
   "source": [
    "mat1=np.array([[len(X),np.sum(X)],[np.sum(X),np.sum(X**2)]])\n",
    "mat2=np.array([[np.sum(Y),np.sum(X*Y)]])\n",
    "coeffs=np.dot(np.linalg.inv(mat1),mat2.T)\n",
    "b0_mat,b1_mat=coeffs[0,0],coeffs[1,0]\n",
    "\n",
    "y_mat = b0_mat + b1_mat * X\n",
    "squared_errors = (Y - y_mat) ** 2\n",
    "rmse_mat = np.sqrt(np.mean(squared_errors))\n",
    "\n",
    "print(f\"{b1_mat}x + {b0_mat}\")\n",
    "print(y_mat)\n",
    "print(rmse_mat)"
   ]
  },
  {
   "cell_type": "code",
   "execution_count": 332,
   "id": "770f210a",
   "metadata": {},
   "outputs": [
    {
     "data": {
      "image/png": "[encoded data removed]",
      "text/plain": [
       "<Figure size 1200x800 with 1 Axes>"
      ]
     },
     "metadata": {},
     "output_type": "display_data"
    }
   ],
   "source": [
    "plt.figure(figsize=(12, 8))\n",
    "\n",
    "\n",
    "plt.scatter(X, Y, color='red', label='Data Points')\n",
    "plt.plot(X, y_pedahzur, color='blue', label=f'Pedahzur: {b1_pedahzur}x + {b0_pedahzur}')\n",
    "\n",
    "plt.xlabel('Age')\n",
    "plt.ylabel('Bilirubin')\n",
    "plt.title('Scatter Plot with Regression Lines')\n",
    "plt.legend()\n",
    "plt.show()"
   ]
  }
 ],
 "metadata": {
  "kernelspec": {
   "display_name": "Python 3 (ipykernel)",
   "language": "python",
   "name": "python3"
  },
  "language_info": {
   "codemirror_mode": {
    "name": "ipython",
    "version": 3
   },
   "file_extension": ".py",
   "mimetype": "text/x-python",
   "name": "python",
   "nbconvert_exporter": "python",
   "pygments_lexer": "ipython3",
   "version": "3.12.3"
  }
 },
 "nbformat": 4,
 "nbformat_minor": 5
}
