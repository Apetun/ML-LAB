{
 "cells": [
  {
   "cell_type": "markdown",
   "id": "c2cb1bdd",
   "metadata": {},
   "source": [
    "### Question 1"
   ]
  },
  {
   "cell_type": "code",
   "execution_count": 1,
   "id": "20b73a45",
   "metadata": {},
   "outputs": [
    {
     "name": "stdout",
     "output_type": "stream",
     "text": [
      "[[0 1 2]\n",
      " [3 4 5]\n",
      " [6 7 8]]\n"
     ]
    }
   ],
   "source": [
    "import numpy as np\n",
    "a = np.array([0,1,2,3,4,5,6,7,8])\n",
    "a = a.reshape(3,3)\n",
    "print(a)"
   ]
  },
  {
   "cell_type": "markdown",
   "id": "8bcb2fc7",
   "metadata": {},
   "source": [
    "### Question 2"
   ]
  },
  {
   "cell_type": "code",
   "execution_count": 2,
   "id": "c9708b6e",
   "metadata": {},
   "outputs": [
    {
     "name": "stdout",
     "output_type": "stream",
     "text": [
      "[ 0 -1  2 -1  4 -1  6 -1  8 -1]\n"
     ]
    }
   ],
   "source": [
    "a=np.array([0, 1, 2, 3, 4, 5, 6, 7, 8, 9])\n",
    "a = np.where(a%2==1,-1,a)\n",
    "print(a)"
   ]
  },
  {
   "cell_type": "markdown",
   "id": "6d031f30",
   "metadata": {},
   "source": [
    "### Question 3"
   ]
  },
  {
   "cell_type": "code",
   "execution_count": 3,
   "id": "46cbd5ef",
   "metadata": {},
   "outputs": [
    {
     "name": "stdout",
     "output_type": "stream",
     "text": [
      "[1 2 4 5 6 7 8 9]\n",
      "[0]\n"
     ]
    }
   ],
   "source": [
    "x = np.array([21, 64, 86, 22, 74, 55, 81, 79, 90, 89]) \n",
    "y = np.array([21, 7, 3, 45, 10, 29, 55, 4, 37, 18])\n",
    "\n",
    "print(np.where(x>y)[0])\n",
    "print(np.where(x==y)[0])"
   ]
  },
  {
   "cell_type": "markdown",
   "id": "83bb9522",
   "metadata": {},
   "source": [
    "### Question 4"
   ]
  },
  {
   "cell_type": "code",
   "execution_count": 4,
   "id": "d7db3edc",
   "metadata": {},
   "outputs": [
    {
     "name": "stdout",
     "output_type": "stream",
     "text": [
      "[[ 0  1  2  3]\n",
      " [20 21 22 23]\n",
      " [40 41 42 43]\n",
      " [60 61 62 63]\n",
      " [80 81 82 83]]\n"
     ]
    }
   ],
   "source": [
    "a = np.arange(100).reshape(5,-1)\n",
    "print(a[:,:4])"
   ]
  },
  {
   "cell_type": "markdown",
   "id": "ac7f0e87",
   "metadata": {},
   "source": [
    "### Additional Question 1"
   ]
  },
  {
   "cell_type": "code",
   "execution_count": 5,
   "id": "b2152f80",
   "metadata": {},
   "outputs": [
    {
     "name": "stdout",
     "output_type": "stream",
     "text": [
      "[31 33 32 39 38 40 39 40 30 39]\n"
     ]
    }
   ],
   "source": [
    "a = np.random.randint(30, 41, size=10)\n",
    "print(a)"
   ]
  },
  {
   "cell_type": "markdown",
   "id": "6c56f4cf",
   "metadata": {},
   "source": [
    "### Addtional Question 2"
   ]
  },
  {
   "cell_type": "code",
   "execution_count": 6,
   "id": "db92ea0d",
   "metadata": {},
   "outputs": [],
   "source": [
    "A=np.array([[1,2,3],[4,5,6],[7,8,10]])\n",
    "B=np.array([[7,8,10],[4,5,6],[1,2,3]])"
   ]
  },
  {
   "cell_type": "markdown",
   "id": "8c95efe7",
   "metadata": {},
   "source": [
    "#### Addition and Subtraction"
   ]
  },
  {
   "cell_type": "code",
   "execution_count": 7,
   "id": "f00a38ff",
   "metadata": {},
   "outputs": [
    {
     "name": "stdout",
     "output_type": "stream",
     "text": [
      "[[ 8 10 13]\n",
      " [ 8 10 12]\n",
      " [ 8 10 13]]\n",
      "[[-6 -6 -7]\n",
      " [ 0  0  0]\n",
      " [ 6  6  7]]\n"
     ]
    }
   ],
   "source": [
    "C = A+B\n",
    "E = A-B\n",
    "print(C)\n",
    "print(E)"
   ]
  },
  {
   "cell_type": "markdown",
   "id": "87a7c22c",
   "metadata": {},
   "source": [
    "#### Sum of all elements of A, columns of B and rows of C"
   ]
  },
  {
   "cell_type": "code",
   "execution_count": 8,
   "id": "432d263e",
   "metadata": {},
   "outputs": [
    {
     "name": "stdout",
     "output_type": "stream",
     "text": [
      "46\n",
      "[12 15 19]\n",
      "[31 30 31]\n"
     ]
    }
   ],
   "source": [
    "print(np.sum(A))\n",
    "print(np.sum(B,axis = 0))\n",
    "print(np.sum(C,axis = 1))"
   ]
  },
  {
   "cell_type": "markdown",
   "id": "e1bd36fb",
   "metadata": {},
   "source": [
    "#### Product of A and B"
   ]
  },
  {
   "cell_type": "code",
   "execution_count": 9,
   "id": "1ffd68a6",
   "metadata": {},
   "outputs": [
    {
     "name": "stdout",
     "output_type": "stream",
     "text": [
      "[[ 18  24  31]\n",
      " [ 54  69  88]\n",
      " [ 91 116 148]]\n"
     ]
    }
   ],
   "source": [
    "D = np.dot(A,B)\n",
    "print(D)"
   ]
  },
  {
   "cell_type": "markdown",
   "id": "e1b6e60d",
   "metadata": {},
   "source": [
    "#### Sort C"
   ]
  },
  {
   "cell_type": "code",
   "execution_count": 10,
   "id": "fbc84188",
   "metadata": {},
   "outputs": [
    {
     "name": "stdout",
     "output_type": "stream",
     "text": [
      "[[ 8 10 13]\n",
      " [ 8 10 12]\n",
      " [ 8 10 13]]\n"
     ]
    }
   ],
   "source": [
    "E = np.sort(C)\n",
    "print(E)"
   ]
  },
  {
   "cell_type": "markdown",
   "id": "c6275ca4",
   "metadata": {},
   "source": [
    "#### Transpose of E"
   ]
  },
  {
   "cell_type": "code",
   "execution_count": 11,
   "id": "ac97943f",
   "metadata": {},
   "outputs": [
    {
     "name": "stdout",
     "output_type": "stream",
     "text": [
      "[[ 8  8  8]\n",
      " [10 10 10]\n",
      " [13 12 13]]\n"
     ]
    }
   ],
   "source": [
    "print(E.T)"
   ]
  }
 ],
 "metadata": {
  "kernelspec": {
   "display_name": "Python 3 (ipykernel)",
   "language": "python",
   "name": "python3"
  },
  "language_info": {
   "codemirror_mode": {
    "name": "ipython",
    "version": 3
   },
   "file_extension": ".py",
   "mimetype": "text/x-python",
   "name": "python",
   "nbconvert_exporter": "python",
   "pygments_lexer": "ipython3",
   "version": "3.12.3"
  }
 },
 "nbformat": 4,
 "nbformat_minor": 5
}
