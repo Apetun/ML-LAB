{
 "cells": [
  {
   "cell_type": "markdown",
   "id": "823e3634",
   "metadata": {},
   "source": [
    "### Importing Libraries"
   ]
  },
  {
   "cell_type": "code",
   "execution_count": 32,
   "id": "dfe99a44",
   "metadata": {},
   "outputs": [],
   "source": [
    "import math\n",
    "import numpy as np\n",
    "import pandas as pd\n",
    "from collections import Counter"
   ]
  },
  {
   "cell_type": "markdown",
   "id": "de702e2c",
   "metadata": {},
   "source": [
    "### Creating Dataset"
   ]
  },
  {
   "cell_type": "code",
   "execution_count": 34,
   "id": "df6ed675",
   "metadata": {},
   "outputs": [
    {
     "name": "stdout",
     "output_type": "stream",
     "text": [
      "     Outlook  Temp  Humidity    Wind Decision\n",
      "0      Sunny    85        85    Weak       No\n",
      "1      Sunny    80        90  Strong       No\n",
      "2   Overcast    83        78    Weak      Yes\n",
      "3       Rain    70        96    Weak      Yes\n",
      "4       Rain    68        80    Weak      Yes\n",
      "5       Rain    65        70  Strong       No\n",
      "6   Overcast    64        65  Strong      Yes\n",
      "7      Sunny    72        95    Weak       No\n",
      "8      Sunny    69        70    Weak      Yes\n",
      "9       Rain    75        80    Weak      Yes\n",
      "10     Sunny    75        70  Strong      Yes\n",
      "11  Overcast    72        90  Strong      Yes\n",
      "12  Overcast    81        75    Weak      Yes\n",
      "13      Rain    71        80  Strong       No\n"
     ]
    }
   ],
   "source": [
    "data = {\n",
    "    \"Outlook\":[\"Sunny\",\"Sunny\",\"Overcast\",\"Rain\",\"Rain\",\"Rain\",\"Overcast\",\"Sunny\",\"Sunny\",\"Rain\",\"Sunny\",\"Overcast\",\"Overcast\",\"Rain\"],\n",
    "    \"Temp\":[85,80,83,70,68,65,64,72,69,75,75,72,81,71],\n",
    "    \"Humidity\":[85,90,78,96,80,70,65,95,70,80,70,90,75,80],\n",
    "    \"Wind\":[\"Weak\",\"Strong\",\"Weak\",\"Weak\",\"Weak\",\"Strong\",\"Strong\",\"Weak\",\"Weak\",\"Weak\",\"Strong\",\"Strong\",\"Weak\",\"Strong\"],\n",
    "    \"Decision\":[\"No\",\"No\",\"Yes\",\"Yes\",\"Yes\",\"No\",\"Yes\",\"No\",\"Yes\",\"Yes\",\"Yes\",\"Yes\",\"Yes\",\"No\"]\n",
    "}\n",
    "\n",
    "df = pd.DataFrame(data)\n",
    "print(df)"
   ]
  },
  {
   "cell_type": "markdown",
   "id": "ee869a0e",
   "metadata": {},
   "source": [
    "### Question 1"
   ]
  },
  {
   "cell_type": "code",
   "execution_count": 35,
   "id": "2bb33939",
   "metadata": {},
   "outputs": [],
   "source": [
    "# Calculate entropy\n",
    "def entropy(data):\n",
    "    total_count = len(data)\n",
    "    label_counts = Counter(row[-1] for row in data)\n",
    "    return -sum((count / total_count) * math.log2(count / total_count) for count in label_counts.values())\n",
    "\n",
    "# Calculate information gain\n",
    "def information_gain(data, feature_index):\n",
    "    total_entropy = entropy(data)\n",
    "    feature_values = set(row[feature_index] for row in data)\n",
    "    weighted_entropy = 0\n",
    "\n",
    "    for value in feature_values:\n",
    "        subset = [row for row in data if row[feature_index] == value]\n",
    "        weighted_entropy += (len(subset) / len(data)) * entropy(subset)\n",
    "\n",
    "    return total_entropy - weighted_entropy\n",
    "\n",
    "# C4.5 Decision Tree Implementation\n",
    "def c45(data, features):\n",
    "    labels = [row[-1] for row in data]\n",
    "    if labels.count(labels[0]) == len(labels):\n",
    "        return labels[0]\n",
    "\n",
    "    if not features:\n",
    "        return Counter(labels).most_common(1)[0][0]\n",
    "\n",
    "    gains = [information_gain(data, feature) for feature in features]\n",
    "    best_feature = features[gains.index(max(gains))]\n",
    "\n",
    "    tree = {best_feature: {}}\n",
    "    remaining_features = [f for f in features if f != best_feature]\n",
    "\n",
    "    for value in set(row[best_feature] for row in data):\n",
    "        subset = [row for row in data if row[best_feature] == value]\n",
    "        tree[best_feature][value] = c45(subset, remaining_features)\n",
    "\n",
    "    return tree"
   ]
  },
  {
   "cell_type": "markdown",
   "id": "72940afb",
   "metadata": {},
   "source": [
    "### Question 2"
   ]
  },
  {
   "cell_type": "code",
   "execution_count": 36,
   "id": "245e1c2c",
   "metadata": {},
   "outputs": [],
   "source": [
    "# Calculate Gini impurity\n",
    "def gini_impurity(data):\n",
    "    total_count = len(data)\n",
    "    if total_count == 0:\n",
    "        return 0\n",
    "    label_counts = Counter(row[-1] for row in data)\n",
    "    return 1 - sum((count / total_count) ** 2 for count in label_counts.values())\n",
    "\n",
    "# Calculate Gini Gain\n",
    "def gini_gain(data, feature_index):\n",
    "    total_gini = gini_impurity(data)\n",
    "    feature_values = set(row[feature_index] for row in data)\n",
    "    weighted_gini = 0\n",
    "\n",
    "    for value in feature_values:\n",
    "        subset = [row for row in data if row[feature_index] == value]\n",
    "        weighted_gini += (len(subset) / len(data)) * gini_impurity(subset)\n",
    "\n",
    "    return total_gini - weighted_gini\n",
    "\n",
    "# CART Decision Tree Implementation\n",
    "def cart(data, features):\n",
    "    labels = [row[-1] for row in data]\n",
    "    if labels.count(labels[0]) == len(labels):\n",
    "        return labels[0]\n",
    "\n",
    "    if not features:\n",
    "        return Counter(labels).most_common(1)[0][0]\n",
    "\n",
    "    gains = [gini_gain(data, feature) for feature in features]\n",
    "    best_feature = features[gains.index(max(gains))]\n",
    "\n",
    "    tree = {best_feature: {}}\n",
    "    remaining_features = [f for f in features if f != best_feature]\n",
    "\n",
    "    for value in set(row[best_feature] for row in data):\n",
    "        subset = [row for row in data if row[best_feature] == value]\n",
    "        tree[best_feature][value] = cart(subset, remaining_features)\n",
    "\n",
    "    return tree"
   ]
  },
  {
   "cell_type": "markdown",
   "id": "a42bbf45",
   "metadata": {},
   "source": [
    "### Results"
   ]
  },
  {
   "cell_type": "code",
   "execution_count": 37,
   "id": "8d2a62da",
   "metadata": {
    "scrolled": false
   },
   "outputs": [
    {
     "name": "stdout",
     "output_type": "stream",
     "text": [
      "C4.5 Decision Tree:\n",
      "{1: {64: 'Yes', 65: 'No', 68: 'Yes', 69: 'Yes', 70: 'Yes', 71: 'No', 72: {0: {'Sunny': 'No', 'Overcast': 'Yes'}}, 75: 'Yes', 80: 'No', 81: 'Yes', 83: 'Yes', 85: 'No'}}\n",
      "\n",
      "CART Decision Tree:\n",
      "{1: {64: 'Yes', 65: 'No', 68: 'Yes', 69: 'Yes', 70: 'Yes', 71: 'No', 72: {0: {'Sunny': 'No', 'Overcast': 'Yes'}}, 75: 'Yes', 80: 'No', 81: 'Yes', 83: 'Yes', 85: 'No'}}\n"
     ]
    }
   ],
   "source": [
    "# Main execution\n",
    "data_list = df.values.tolist()  # Convert DataFrame to list of lists\n",
    "features = list(range(len(df.columns) - 1))  # Use indices for features (0, 1, 2, 3)\n",
    "\n",
    "# Build C4.5 and CART trees\n",
    "c45_tree = c45(data_list, features)\n",
    "cart_tree = cart(data_list, features)\n",
    "\n",
    "\n",
    "# Display the trees\n",
    "print(\"C4.5 Decision Tree:\")\n",
    "print(c45_tree)\n",
    "\n",
    "print(\"\\nCART Decision Tree:\")\n",
    "print(cart_tree)\n"
   ]
  },
  {
   "cell_type": "markdown",
   "id": "9ae03986",
   "metadata": {},
   "source": [
    "### Question 3"
   ]
  },
  {
   "cell_type": "code",
   "execution_count": 38,
   "id": "e3310654",
   "metadata": {
    "scrolled": true
   },
   "outputs": [
    {
     "name": "stdout",
     "output_type": "stream",
     "text": [
      "   Income Credit Loan Approved\n",
      "0     Low   Good           Yes\n",
      "1     Low    Bad            No\n",
      "2  Medium   Good           Yes\n",
      "3  Medium    Bad           Yes\n",
      "4    High   Good           Yes\n",
      "5    High    Bad            No\n"
     ]
    }
   ],
   "source": [
    "import pandas as pd\n",
    "\n",
    "# Create the dataset\n",
    "data = {\n",
    "    \"Income\": [\"Low\", \"Low\", \"Medium\", \"Medium\", \"High\", \"High\"],\n",
    "    \"Credit\": [\"Good\", \"Bad\", \"Good\", \"Bad\", \"Good\", \"Bad\"],\n",
    "    \"Loan Approved\": [\"Yes\", \"No\", \"Yes\", \"Yes\", \"Yes\", \"No\"]\n",
    "}\n",
    "\n",
    "df = pd.DataFrame(data)\n",
    "print(df)\n"
   ]
  },
  {
   "cell_type": "markdown",
   "id": "1b2c440b",
   "metadata": {},
   "source": [
    "### Function for C4.5"
   ]
  },
  {
   "cell_type": "code",
   "execution_count": 39,
   "id": "6bb520a0",
   "metadata": {},
   "outputs": [],
   "source": [
    "import math\n",
    "from collections import Counter\n",
    "\n",
    "def entropy(data):\n",
    "    total_count = len(data)\n",
    "    label_counts = Counter(row[-1] for row in data)\n",
    "    return -sum((count / total_count) * math.log2(count / total_count) for count in label_counts.values())\n",
    "\n",
    "def information_gain(data, feature_index):\n",
    "    total_entropy = entropy(data)\n",
    "    feature_values = set(row[feature_index] for row in data)\n",
    "    weighted_entropy = 0\n",
    "\n",
    "    for value in feature_values:\n",
    "        subset = [row for row in data if row[feature_index] == value]\n",
    "        weighted_entropy += (len(subset) / len(data)) * entropy(subset)\n",
    "\n",
    "    return total_entropy - weighted_entropy\n",
    "\n",
    "def c45(data, features):\n",
    "    labels = [row[-1] for row in data]\n",
    "    if labels.count(labels[0]) == len(labels):\n",
    "        return labels[0]\n",
    "\n",
    "    if not features:\n",
    "        return Counter(labels).most_common(1)[0][0]\n",
    "\n",
    "    gains = [information_gain(data, feature) for feature in features]\n",
    "    best_feature = features[gains.index(max(gains))]\n",
    "\n",
    "    tree = {best_feature: {}}\n",
    "    remaining_features = [f for f in features if f != best_feature]\n",
    "\n",
    "    for value in set(row[best_feature] for row in data):\n",
    "        subset = [row for row in data if row[best_feature] == value]\n",
    "        tree[best_feature][value] = c45(subset, remaining_features)\n",
    "\n",
    "    return tree"
   ]
  },
  {
   "cell_type": "markdown",
   "id": "629f2ca1",
   "metadata": {},
   "source": [
    "### Function for CART"
   ]
  },
  {
   "cell_type": "code",
   "execution_count": 40,
   "id": "1ef99820",
   "metadata": {},
   "outputs": [],
   "source": [
    "def gini_impurity(data):\n",
    "    total_count = len(data)\n",
    "    if total_count == 0:\n",
    "        return 0\n",
    "    label_counts = Counter(row[-1] for row in data)\n",
    "    return 1 - sum((count / total_count) ** 2 for count in label_counts.values())\n",
    "\n",
    "def gini_gain(data, feature_index):\n",
    "    total_gini = gini_impurity(data)\n",
    "    feature_values = set(row[feature_index] for row in data)\n",
    "    weighted_gini = 0\n",
    "\n",
    "    for value in feature_values:\n",
    "        subset = [row for row in data if row[feature_index] == value]\n",
    "        weighted_gini += (len(subset) / len(data)) * gini_impurity(subset)\n",
    "\n",
    "    return total_gini - weighted_gini\n",
    "\n",
    "def cart(data, features):\n",
    "    labels = [row[-1] for row in data]\n",
    "    if labels.count(labels[0]) == len(labels):\n",
    "        return labels[0]\n",
    "\n",
    "    if not features:\n",
    "        return Counter(labels).most_common(1)[0][0]\n",
    "\n",
    "    gains = [gini_gain(data, feature) for feature in features]\n",
    "    best_feature = features[gains.index(max(gains))]\n",
    "\n",
    "    tree = {best_feature: {}}\n",
    "    remaining_features = [f for f in features if f != best_feature]\n",
    "\n",
    "    for value in set(row[best_feature] for row in data):\n",
    "        subset = [row for row in data if row[best_feature] == value]\n",
    "        tree[best_feature][value] = cart(subset, remaining_features)\n",
    "\n",
    "    return tree"
   ]
  },
  {
   "cell_type": "markdown",
   "id": "173a177a",
   "metadata": {},
   "source": [
    "### Predictions"
   ]
  },
  {
   "cell_type": "code",
   "execution_count": 41,
   "id": "2b07bb02",
   "metadata": {},
   "outputs": [
    {
     "name": "stdout",
     "output_type": "stream",
     "text": [
      "\n",
      "C4.5 Decision Tree:\n",
      "1 = Bad:\n",
      "    0 = High:\n",
      "        Predict: No\n",
      "    0 = Medium:\n",
      "        Predict: Yes\n",
      "    0 = Low:\n",
      "        Predict: No\n",
      "1 = Good:\n",
      "    Predict: Yes\n",
      "\n",
      "CART Decision Tree:\n",
      "1 = Bad:\n",
      "    0 = High:\n",
      "        Predict: No\n",
      "    0 = Medium:\n",
      "        Predict: Yes\n",
      "    0 = Low:\n",
      "        Predict: No\n",
      "1 = Good:\n",
      "    Predict: Yes\n"
     ]
    }
   ],
   "source": [
    "# Prepare the data\n",
    "data_list = df.values.tolist()\n",
    "features = list(range(len(df.columns) - 1))  # Indices of features\n",
    "\n",
    "# Build C4.5 and CART trees\n",
    "c45_tree = c45(data_list, features)\n",
    "cart_tree = cart(data_list, features)\n",
    "\n",
    "# Function to print the decision tree\n",
    "def print_tree(tree, level=0):\n",
    "    if isinstance(tree, dict):\n",
    "        for feature, branches in tree.items():\n",
    "            for branch, subtree in branches.items():\n",
    "                print(\"    \" * level + f\"{feature} = {branch}:\")\n",
    "                print_tree(subtree, level + 1)\n",
    "    else:\n",
    "        print(\"    \" * level + f\"Predict: {tree}\")\n",
    "\n",
    "# Print C4.5 Decision Tree\n",
    "print(\"\\nC4.5 Decision Tree:\")\n",
    "print_tree(c45_tree)\n",
    "\n",
    "# Print CART Decision Tree\n",
    "print(\"\\nCART Decision Tree:\")\n",
    "print_tree(cart_tree)"
   ]
  },
  {
   "cell_type": "markdown",
   "id": "7775b058",
   "metadata": {},
   "source": [
    "### Using SckitLearn"
   ]
  },
  {
   "cell_type": "code",
   "execution_count": 43,
   "id": "5e6dcc05",
   "metadata": {},
   "outputs": [
    {
     "name": "stdout",
     "output_type": "stream",
     "text": [
      "\n",
      "C4.5 Decision Tree (Scikit-Learn):\n",
      "|--- Credit_Good <= 0.50\n",
      "|   |--- Income_Medium <= 0.50\n",
      "|   |   |--- class: No\n",
      "|   |--- Income_Medium >  0.50\n",
      "|   |   |--- class: Yes\n",
      "|--- Credit_Good >  0.50\n",
      "|   |--- class: Yes\n",
      "\n",
      "\n",
      "CART Decision Tree (Scikit-Learn):\n",
      "|--- Credit_Good <= 0.50\n",
      "|   |--- Income_Medium <= 0.50\n",
      "|   |   |--- class: No\n",
      "|   |--- Income_Medium >  0.50\n",
      "|   |   |--- class: Yes\n",
      "|--- Credit_Good >  0.50\n",
      "|   |--- class: Yes\n",
      "\n"
     ]
    }
   ],
   "source": [
    "from sklearn.tree import DecisionTreeClassifier, export_text\n",
    "\n",
    "# Prepare features and target variable\n",
    "X = df[[\"Income\", \"Credit\"]]\n",
    "y = df[\"Loan Approved\"]\n",
    "\n",
    "# Convert categorical variables to numerical\n",
    "X = pd.get_dummies(X, drop_first=True)\n",
    "\n",
    "# Create and fit the C4.5 decision tree\n",
    "clf_c45 = DecisionTreeClassifier(criterion='entropy')\n",
    "clf_c45.fit(X, y)\n",
    "\n",
    "# Create and fit the CART decision tree\n",
    "clf_cart = DecisionTreeClassifier(criterion='gini')\n",
    "clf_cart.fit(X, y)\n",
    "\n",
    "# Print the tree structure\n",
    "print(\"\\nC4.5 Decision Tree (Scikit-Learn):\")\n",
    "print(export_text(clf_c45, feature_names=list(X.columns)))\n",
    "\n",
    "print(\"\\nCART Decision Tree (Scikit-Learn):\")\n",
    "print(export_text(clf_cart, feature_names=list(X.columns)))\n"
   ]
  }
 ],
 "metadata": {
  "kernelspec": {
   "display_name": "Python 3 (ipykernel)",
   "language": "python",
   "name": "python3"
  },
  "language_info": {
   "codemirror_mode": {
    "name": "ipython",
    "version": 3
   },
   "file_extension": ".py",
   "mimetype": "text/x-python",
   "name": "python",
   "nbconvert_exporter": "python",
   "pygments_lexer": "ipython3",
   "version": "3.12.3"
  }
 },
 "nbformat": 4,
 "nbformat_minor": 5
}
