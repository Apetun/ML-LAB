{
 "cells": [
  {
   "cell_type": "markdown",
   "id": "13aee8ce",
   "metadata": {},
   "source": [
    "### Question 1\n",
    "\n",
    "####  Implement in python program of the following problems using Bayes Theorem."
   ]
  },
  {
   "cell_type": "markdown",
   "id": "4e487dc5",
   "metadata": {},
   "source": [
    "a) Of the students in the college, 60% of the students reside in the hostel and 40% of the students are day scholars. Previous year results report that 30% of all students who stay in the hostel scored A Grade and 20% of day scholars scored A grade. At the end of the year, one student is chosen at random and found that he/she has an A grade. What is the probability that the student is a hosteler?"
   ]
  },
  {
   "cell_type": "code",
   "execution_count": 52,
   "id": "451b2715",
   "metadata": {},
   "outputs": [
    {
     "name": "stdout",
     "output_type": "stream",
     "text": [
      "Probability that the student is a hosteler given A grade : 0.692\n"
     ]
    }
   ],
   "source": [
    "p_hostel = 0.6\n",
    "p_ds = 0.4\n",
    "p_A_hostel = 0.3\n",
    "p_A_ds = 0.2\n",
    "p_A = (p_A_hostel*p_hostel)+(p_A_ds*p_ds)\n",
    "p_hostel_A = (p_A_hostel*p_hostel)/p_A\n",
    "print(f\"Probability that the student is a hosteler given A grade : {p_hostel_A:0.3f}\")"
   ]
  },
  {
   "cell_type": "markdown",
   "id": "d2261fec",
   "metadata": {},
   "source": [
    "b) Suppose you're testing for a rare disease, and you have the following information:\n",
    "- The disease has a prevalence of 0.01 (1% of the population has the disease). \n",
    "\n",
    "The test is not perfect:\n",
    " - The test correctly identifies the disease (true positive) 99% of the time (sensitivity).\n",
    " - The test incorrectly indicates the disease (false positive) 2% of the time (1 - specificity).\n",
    "Calculate the probability of having the disease given a positive test result using Bayes' theorem."
   ]
  },
  {
   "cell_type": "markdown",
   "id": "9bb70b99",
   "metadata": {},
   "source": [
    "### Question 2"
   ]
  },
  {
   "cell_type": "code",
   "execution_count": 53,
   "id": "7f6f132a",
   "metadata": {},
   "outputs": [
    {
     "name": "stdout",
     "output_type": "stream",
     "text": [
      "probability of having the disease given a positive test result : 0.333\n"
     ]
    }
   ],
   "source": [
    "p_dis = 0.01\n",
    "p_nd = 0.99\n",
    "sens = 0.99\n",
    "spec = 0.02\n",
    "p_pos_dis = sens\n",
    "p_pos = ((p_pos_dis)*p_dis) + ((spec)*p_nd)\n",
    "p_dis_pos = (p_pos_dis*p_dis)/p_pos\n",
    "print(f\"probability of having the disease given a positive test result : {p_dis_pos:0.3f}\")"
   ]
  },
  {
   "cell_type": "code",
   "execution_count": 54,
   "id": "c09cb2a6",
   "metadata": {},
   "outputs": [],
   "source": [
    "import numpy as np \n",
    "import pandas as pd "
   ]
  },
  {
   "cell_type": "markdown",
   "id": "31c605eb",
   "metadata": {},
   "source": [
    "### Read data"
   ]
  },
  {
   "cell_type": "code",
   "execution_count": 55,
   "id": "08edae3f",
   "metadata": {},
   "outputs": [
    {
     "name": "stdout",
     "output_type": "stream",
     "text": [
      "        age  income student credit_rating buys_com\n",
      "0      <=30    high      no          fair       no\n",
      "1      <=30    high      no     excellent       no\n",
      "2   31...40    high      no          fair      yes\n",
      "3       >40  medium      no          fair      yes\n",
      "4       >40     low     yes          fair      yes\n",
      "5       >40     low     yes     excellent       no\n",
      "6   31...40     low     yes     excellent      yes\n",
      "7      <=30  medium      no          fair       no\n",
      "8      <=30     low     yes          fair      yes\n",
      "9       >40  medium     yes          fair      yes\n",
      "10     <=30  medium     yes     excellent      yes\n",
      "11  31...40  medium      no     excellent      yes\n",
      "12  31...40    high     yes          fair      yes\n",
      "13      >40  medium      no     excellent       no\n"
     ]
    }
   ],
   "source": [
    "df = pd.read_csv(\"data.csv\")\n",
    "print(df)"
   ]
  },
  {
   "cell_type": "markdown",
   "id": "8c9e80a7",
   "metadata": {},
   "source": [
    "### For P(E/buy computer = yes)\n",
    "### Calculating probabilities"
   ]
  },
  {
   "cell_type": "code",
   "execution_count": 56,
   "id": "d0941198",
   "metadata": {},
   "outputs": [],
   "source": [
    "count = 0\n",
    "tot = 14\n",
    "x = df['buys_com'].values\n",
    "for i in x:\n",
    "    if i=='yes':\n",
    "        count = count + 1\n",
    "count_yes = count\n",
    "p_yes = count/tot\n",
    "\n",
    "y = df['age'].values\n",
    "count = 0\n",
    "for i,j in zip(y,x):\n",
    "    if i=='<=30' and j=='yes':\n",
    "        count = count + 1\n",
    "p_c1_yes = count/count_yes\n",
    "\n",
    "z = df['income'].values\n",
    "count = 0\n",
    "for i,j in zip(z,x):\n",
    "    if i=='medium' and j=='yes':\n",
    "        count = count+1\n",
    "p_c2_yes = count/count_yes\n",
    "\n",
    "a = df['student'].values\n",
    "count = 0\n",
    "for i,j in zip(a,x):\n",
    "    if i=='yes' and j=='yes':\n",
    "        count = count+1\n",
    "p_c3_yes = count/count_yes\n",
    "\n",
    "b = df['credit_rating'].values\n",
    "count = 0\n",
    "for i,j in zip(b,x):\n",
    "    if i=='fair' and j=='yes':\n",
    "        count = count+1\n",
    "p_c4_yes = count/count_yes"
   ]
  },
  {
   "cell_type": "markdown",
   "id": "19188016",
   "metadata": {},
   "source": [
    "### Calculating P(E1,E2...Ei/buy computer = yes)"
   ]
  },
  {
   "cell_type": "code",
   "execution_count": 57,
   "id": "e1728ed9",
   "metadata": {
    "scrolled": true
   },
   "outputs": [
    {
     "name": "stdout",
     "output_type": "stream",
     "text": [
      "Probability that the player buys computer  : 0.028218694885361547\n"
     ]
    }
   ],
   "source": [
    "p_E_yes = (p_c1_yes*p_c2_yes*p_c3_yes*p_c4_yes)\n",
    "p_yes_E = p_E_yes*p_yes\n",
    "print(f\"Probability that the player buys computer  : {p_yes_E}\")"
   ]
  },
  {
   "cell_type": "markdown",
   "id": "405da730",
   "metadata": {},
   "source": [
    "### For P(E/buy computer = no)\n",
    "### Calculating probabilities"
   ]
  },
  {
   "cell_type": "code",
   "execution_count": 58,
   "id": "85aaa04e",
   "metadata": {},
   "outputs": [],
   "source": [
    "count = 0\n",
    "for i in x:\n",
    "    if i=='no':\n",
    "        count = count + 1\n",
    "count_no = count\n",
    "p_no = count/tot\n",
    "\n",
    "y = df['age'].values\n",
    "count = 0\n",
    "for i,j in zip(y,x):\n",
    "    if i=='<=30' and j=='no':\n",
    "        count = count + 1\n",
    "p_c1_no = count/count_no\n",
    "\n",
    "z = df['income'].values\n",
    "count = 0\n",
    "for i,j in zip(z,x):\n",
    "    if i=='medium' and j=='no':\n",
    "        count = count+1\n",
    "p_c2_no = count/count_no\n",
    "\n",
    "a = df['student'].values\n",
    "count = 0\n",
    "for i,j in zip(a,x):\n",
    "    if i=='yes' and j=='no':\n",
    "        count = count+1\n",
    "p_c3_no = count/count_no\n",
    "\n",
    "b = df['credit_rating'].values\n",
    "count = 0\n",
    "for i,j in zip(b,x):\n",
    "    if i=='fair' and j=='no':\n",
    "        count = count+1\n",
    "p_c4_no = count/count_no"
   ]
  },
  {
   "cell_type": "markdown",
   "id": "59c1b1e6",
   "metadata": {},
   "source": [
    "### Calculating P(E1,E2...Ei/buy computer = no)"
   ]
  },
  {
   "cell_type": "code",
   "execution_count": 59,
   "id": "ebda6845",
   "metadata": {},
   "outputs": [
    {
     "name": "stdout",
     "output_type": "stream",
     "text": [
      "Probability that the player didn't buy computer : 0.006857142857142858\n"
     ]
    }
   ],
   "source": [
    "p_no_E = 0\n",
    "p_E_no = (p_c1_no*p_c2_no*p_c3_no*p_c4_no)\n",
    "p_no_E = p_E_no*p_no\n",
    "print(f\"Probability that the player didn't buy computer : {p_no_E}\")"
   ]
  },
  {
   "cell_type": "markdown",
   "id": "3e1a964b",
   "metadata": {},
   "source": [
    "### Classifying"
   ]
  },
  {
   "cell_type": "code",
   "execution_count": 60,
   "id": "7a1c2b6b",
   "metadata": {},
   "outputs": [
    {
     "name": "stdout",
     "output_type": "stream",
     "text": [
      "Classification : Buys computer \n"
     ]
    }
   ],
   "source": [
    "if(p_yes_E >= p_no_E):\n",
    "    print(\"Classification : Buys computer \")\n",
    "else:\n",
    "    print(\"Classification : Didn't buy computer \")"
   ]
  },
  {
   "cell_type": "markdown",
   "id": "f9be3daa",
   "metadata": {},
   "source": [
    "### Question 3"
   ]
  },
  {
   "cell_type": "markdown",
   "id": "6ac02e1a",
   "metadata": {},
   "source": [
    "### Read Data"
   ]
  },
  {
   "cell_type": "code",
   "execution_count": 61,
   "id": "dfa496be",
   "metadata": {},
   "outputs": [
    {
     "name": "stdout",
     "output_type": "stream",
     "text": [
      "                           Text         Tag\n",
      "0                  A great game      Sports\n",
      "1         The election was over  Not sports\n",
      "2              Very clean match      Sports\n",
      "3  A clean but forgettable game      Sports\n",
      "4       It was a close election  Not sports\n"
     ]
    }
   ],
   "source": [
    "df = pd.read_csv(\"data2.csv\")\n",
    "print(df)"
   ]
  },
  {
   "cell_type": "markdown",
   "id": "9faa4679",
   "metadata": {},
   "source": [
    "### Getting word vocab"
   ]
  },
  {
   "cell_type": "code",
   "execution_count": 62,
   "id": "296300c4",
   "metadata": {},
   "outputs": [],
   "source": [
    "x = df['Text'].values\n",
    "y = df['Tag'].values\n",
    "\n",
    "voc = set()\n",
    "s_word_count = 0\n",
    "ns_word_count = 0\n",
    "for i,j in zip(x,y):\n",
    "    if j=='Sports':\n",
    "        w = i.strip('\\\"').lower().split(\" \")\n",
    "        s_word_count += len(w)\n",
    "    else:\n",
    "        w = i.strip('\\\"').lower().split(\" \")\n",
    "        ns_word_count += len(w)\n",
    "    for word in w:\n",
    "            voc.add(word)"
   ]
  },
  {
   "cell_type": "markdown",
   "id": "5c4ed850",
   "metadata": {},
   "source": [
    "### Defining functions for finding probabilities"
   ]
  },
  {
   "cell_type": "code",
   "execution_count": 63,
   "id": "7e931ee6",
   "metadata": {},
   "outputs": [],
   "source": [
    "tot = len(voc)\n",
    "def find_word_s(word):\n",
    "    count = 0\n",
    "    for i,j in zip(x,y):\n",
    "        w = i.strip('\\\"').lower().split(\" \")\n",
    "        if j=='Sports' and word in w:\n",
    "            count = count + 1\n",
    "    if count == 0:\n",
    "        return 1/(s_word_count+tot)\n",
    "    else:\n",
    "        return (count+1)/(s_word_count+tot) \n",
    "\n",
    "def find_word_ns(word):\n",
    "    count = 0\n",
    "    for i,j in zip(x,y):\n",
    "        w = i.strip('\\\"').lower().split(\" \")\n",
    "        if j=='Not sports' and word in w:\n",
    "            count = count + 1\n",
    "    if count == 0:\n",
    "        return 1/(ns_word_count+tot)\n",
    "    else:\n",
    "        return (count+1)/(ns_word_count+tot) \n",
    "    "
   ]
  },
  {
   "cell_type": "markdown",
   "id": "9bc45361",
   "metadata": {},
   "source": [
    "### Finding probability for 'a very close game'"
   ]
  },
  {
   "cell_type": "code",
   "execution_count": 64,
   "id": "144ae0c5",
   "metadata": {},
   "outputs": [
    {
     "name": "stdout",
     "output_type": "stream",
     "text": [
      "[0.12, 0.08, 0.04, 0.12]\n",
      "[0.08695652173913043, 0.043478260869565216, 0.08695652173913043, 0.043478260869565216]\n"
     ]
    }
   ],
   "source": [
    "str = 'a very close game'\n",
    "sent = str.split()\n",
    "\n",
    "p_word_s = [find_word_s(i) for i in sent]\n",
    "print(p_word_s)\n",
    "p_word_ns = [find_word_ns(i) for i in sent]\n",
    "print(p_word_ns)"
   ]
  },
  {
   "cell_type": "code",
   "execution_count": 65,
   "id": "682c2465",
   "metadata": {},
   "outputs": [],
   "source": [
    "s_count = 0\n",
    "ns_count = 0\n",
    "for i in y:\n",
    "    if i=='Sports':\n",
    "        s_count = s_count + 1\n",
    "    else:\n",
    "        ns_count = ns_count + 1\n",
    "p_s = s_count/len(y)\n",
    "p_ns = ns_count/len(y)"
   ]
  },
  {
   "cell_type": "code",
   "execution_count": 66,
   "id": "ab41db44",
   "metadata": {
    "scrolled": true
   },
   "outputs": [
    {
     "name": "stdout",
     "output_type": "stream",
     "text": [
      "2.7647999999999993e-05\n",
      "5.7175324559303314e-06\n"
     ]
    }
   ],
   "source": [
    "p_text_s = 1\n",
    "for i in p_word_s:\n",
    "    p_text_s = p_text_s * i\n",
    "    \n",
    "p_s_text = p_text_s*p_s\n",
    "print(p_s_text)\n",
    "\n",
    "p_text_ns = 1\n",
    "for i in p_word_ns:\n",
    "    p_text_ns = p_text_ns * i\n",
    "    \n",
    "p_ns_text = p_text_ns*p_ns\n",
    "print(p_ns_text)"
   ]
  },
  {
   "cell_type": "markdown",
   "id": "a2953bf9",
   "metadata": {},
   "source": [
    "### Classifying using probabilities"
   ]
  },
  {
   "cell_type": "code",
   "execution_count": 67,
   "id": "e587ff54",
   "metadata": {},
   "outputs": [
    {
     "name": "stdout",
     "output_type": "stream",
     "text": [
      "Classification : Sports\n"
     ]
    }
   ],
   "source": [
    "if(p_s_text >= p_ns_text):\n",
    "    print(\"Classification : Sports\")\n",
    "else:\n",
    "    print(\"Classification : Not Sports\")"
   ]
  }
 ],
 "metadata": {
  "kernelspec": {
   "display_name": "Python 3 (ipykernel)",
   "language": "python",
   "name": "python3"
  },
  "language_info": {
   "codemirror_mode": {
    "name": "ipython",
    "version": 3
   },
   "file_extension": ".py",
   "mimetype": "text/x-python",
   "name": "python",
   "nbconvert_exporter": "python",
   "pygments_lexer": "ipython3",
   "version": "3.12.3"
  }
 },
 "nbformat": 4,
 "nbformat_minor": 5
}
