{
 "cells": [
  {
   "cell_type": "markdown",
   "id": "caa2010a",
   "metadata": {},
   "source": [
    "### Question 1"
   ]
  },
  {
   "cell_type": "code",
   "execution_count": 1,
   "id": "7e7f9ffd",
   "metadata": {},
   "outputs": [],
   "source": [
    "import numpy as np\n",
    "import matplotlib.pyplot as plt"
   ]
  },
  {
   "cell_type": "markdown",
   "id": "ebb95d33",
   "metadata": {},
   "source": [
    "### Creating Dataset"
   ]
  },
  {
   "cell_type": "code",
   "execution_count": 2,
   "id": "5787ba35",
   "metadata": {},
   "outputs": [
    {
     "name": "stdout",
     "output_type": "stream",
     "text": [
      "[['180' '7' 'Apple']\n",
      " ['200' '6' 'Apple']\n",
      " ['150' '4' 'Orange']\n",
      " ['170' '5' 'Orange']\n",
      " ['160' '6' 'Apple']\n",
      " ['140' '3' 'Orange']]\n"
     ]
    }
   ],
   "source": [
    "fruits = np.array([\n",
    "    [180, 7, 'Apple'],\n",
    "    [200, 6, 'Apple'],\n",
    "    [150, 4, 'Orange'],\n",
    "    [170, 5, 'Orange'],\n",
    "    [160, 6, 'Apple'],\n",
    "    [140, 3, 'Orange']\n",
    "])\n",
    "\n",
    "new_fruit = np.array([165, 5.5])\n",
    "\n",
    "print(fruits)"
   ]
  },
  {
   "cell_type": "markdown",
   "id": "faa550fc",
   "metadata": {},
   "source": [
    "### Distance Functions "
   ]
  },
  {
   "cell_type": "code",
   "execution_count": 3,
   "id": "5533646e",
   "metadata": {},
   "outputs": [],
   "source": [
    "import numpy as np\n",
    "\n",
    "def euclidean_distance(point1, point2):\n",
    "    return np.sqrt(np.sum((point1 - point2) ** 2))\n",
    "\n",
    "def manhattan_distance(point1, point2):\n",
    "    return np.sum(np.abs(point1 - point2))\n",
    "\n",
    "def minkowski_distance(point1, point2, p):\n",
    "    return np.power(np.sum(np.abs(point1 - point2) ** p), 1/p)"
   ]
  },
  {
   "cell_type": "markdown",
   "id": "c220c56a",
   "metadata": {},
   "source": [
    "### Calculating Distances"
   ]
  },
  {
   "cell_type": "code",
   "execution_count": 4,
   "id": "c67d29d3",
   "metadata": {
    "scrolled": true
   },
   "outputs": [
    {
     "name": "stdout",
     "output_type": "stream",
     "text": [
      "Euclidean: 15.07, Manhattan: 16.50, Minkowski: 15.00, Label: Apple\n",
      "Euclidean: 35.00, Manhattan: 35.50, Minkowski: 35.00, Label: Apple\n",
      "Euclidean: 15.07, Manhattan: 16.50, Minkowski: 15.00, Label: Orange\n",
      "Euclidean: 5.02, Manhattan: 5.50, Minkowski: 5.00, Label: Orange\n",
      "Euclidean: 5.02, Manhattan: 5.50, Minkowski: 5.00, Label: Apple\n",
      "Euclidean: 25.12, Manhattan: 27.50, Minkowski: 25.01, Label: Orange\n"
     ]
    }
   ],
   "source": [
    "distances = []\n",
    "\n",
    "for fruit in fruits:\n",
    "    weight = int(fruit[0])\n",
    "    sweetness = int(fruit[1])\n",
    "    label = fruit[2]\n",
    "    \n",
    "    euclidean = euclidean_distance(new_fruit, np.array([weight, sweetness]))\n",
    "    manhattan = manhattan_distance(new_fruit, np.array([weight, sweetness]))\n",
    "    minkowski = minkowski_distance(new_fruit, np.array([weight, sweetness]), 3)\n",
    "    \n",
    "    distances.append((euclidean, manhattan, minkowski, label))\n",
    "\n",
    "for d in distances:\n",
    "    print(f\"Euclidean: {d[0]:.2f}, Manhattan: {d[1]:.2f}, Minkowski: {d[2]:.2f}, Label: {d[3]}\")\n"
   ]
  },
  {
   "cell_type": "markdown",
   "id": "4d700d9d",
   "metadata": {},
   "source": [
    "### Making Predictions with k=3"
   ]
  },
  {
   "cell_type": "code",
   "execution_count": 5,
   "id": "2ea233fd",
   "metadata": {},
   "outputs": [
    {
     "name": "stdout",
     "output_type": "stream",
     "text": [
      "Predicted label for the new fruit: Apple\n"
     ]
    }
   ],
   "source": [
    "sorted_distances = sorted(distances, key=lambda x: x[0])\n",
    "k = 3\n",
    "neighbors = sorted_distances[:k]\n",
    "\n",
    "# Count labels of the nearest neighbors\n",
    "label_count = {}\n",
    "for neighbor in neighbors:\n",
    "    label = neighbor[3]\n",
    "    label_count[label] = label_count.get(label, 0) + 1\n",
    "\n",
    "# Predict the label\n",
    "predicted_label = max(label_count, key=label_count.get)\n",
    "print(f\"Predicted label for the new fruit: {predicted_label}\")"
   ]
  },
  {
   "cell_type": "markdown",
   "id": "859e8711",
   "metadata": {},
   "source": [
    "### Making Predictions with k=1 and k=5"
   ]
  },
  {
   "cell_type": "code",
   "execution_count": 6,
   "id": "99fb6028",
   "metadata": {},
   "outputs": [
    {
     "name": "stdout",
     "output_type": "stream",
     "text": [
      "Predicted label for the new fruit: Orange\n"
     ]
    }
   ],
   "source": [
    "sorted_distances = sorted(distances, key=lambda x: x[0])\n",
    "k = 1\n",
    "\n",
    "neighbors = sorted_distances[:k]\n",
    "\n",
    "label_count = {}\n",
    "for neighbor in neighbors:\n",
    "    label = neighbor[3]\n",
    "    label_count[label] = label_count.get(label, 0) + 1\n",
    "\n",
    "predicted_label = max(label_count, key=label_count.get)\n",
    "print(f\"Predicted label for the new fruit: {predicted_label}\")"
   ]
  },
  {
   "cell_type": "code",
   "execution_count": 7,
   "id": "346e01b2",
   "metadata": {},
   "outputs": [
    {
     "name": "stdout",
     "output_type": "stream",
     "text": [
      "Predicted label for the new fruit: Orange\n"
     ]
    }
   ],
   "source": [
    "sorted_distances = sorted(distances, key=lambda x: x[0])\n",
    "k = 5\n",
    "\n",
    "neighbors = sorted_distances[:k]\n",
    "\n",
    "label_count = {}\n",
    "for neighbor in neighbors:\n",
    "    label = neighbor[3]\n",
    "    label_count[label] = label_count.get(label, 0) + 1\n",
    "\n",
    "predicted_label = max(label_count, key=label_count.get)\n",
    "print(f\"Predicted label for the new fruit: {predicted_label}\")"
   ]
  },
  {
   "cell_type": "markdown",
   "id": "264eb5c7",
   "metadata": {},
   "source": [
    "### Plotting Results"
   ]
  },
  {
   "cell_type": "code",
   "execution_count": 8,
   "id": "83804ebd",
   "metadata": {},
   "outputs": [
    {
     "data": {
      "image/png": "[encoded data removed]",
      "text/plain": [
       "<Figure size 800x800 with 1 Axes>"
      ]
     },
     "metadata": {},
     "output_type": "display_data"
    }
   ],
   "source": [
    "plt.figure(figsize=(8, 8))\n",
    "for fruit in fruits:\n",
    "    if fruit[2] == 'Apple':\n",
    "        plt.scatter(int(fruit[0]), int(fruit[1]), color='red')\n",
    "    else:\n",
    "        plt.scatter(int(fruit[0]), int(fruit[1]), color='orange')\n",
    "\n",
    "plt.scatter(new_fruit[0], new_fruit[1], color='green', label='New Fruit', s=100)\n",
    "plt.title('Fruit Classification using KNN')\n",
    "plt.xlabel('Weight (grams)')\n",
    "plt.ylabel('Sweetness Level')\n",
    "plt.legend()\n",
    "plt.show()"
   ]
  },
  {
   "cell_type": "code",
   "execution_count": 52,
   "id": "aae4aacb",
   "metadata": {},
   "outputs": [
    {
     "name": "stdout",
     "output_type": "stream",
     "text": [
      "Predicted label for the new fruit: Orange\n",
      "Euclidean distances: [15.07481343 35.00357125 15.07481343  5.02493781  5.02493781 25.12468905]\n",
      "Manhattan distances: [16.5 35.5 16.5  5.5  5.5 27.5]\n",
      "Minkowski (p=3) distances: [15.00499833 35.00003401 15.00499833  5.00166611  5.00166611 25.00833056]\n"
     ]
    }
   ],
   "source": [
    "import numpy as np\n",
    "import matplotlib.pyplot as plt\n",
    "from sklearn.neighbors import KNeighborsClassifier\n",
    "from sklearn.metrics import pairwise_distances\n",
    "\n",
    "# Data\n",
    "X = np.array([[180, 7],\n",
    "              [200, 6],\n",
    "              [150, 4],\n",
    "              [170, 5],\n",
    "              [160, 6],\n",
    "              [140, 3]])\n",
    "y = np.array(['Apple', 'Apple', 'Orange', 'Orange', 'Apple', 'Orange'])\n",
    "\n",
    "new_fruit = np.array([[165, 5.5]])\n",
    "\n",
    "# KNN classifier\n",
    "k = 3\n",
    "knn = KNeighborsClassifier(n_neighbors=k)\n",
    "knn.fit(X, y)\n",
    "predicted_label = knn.predict(new_fruit)\n",
    "\n",
    "# Distances\n",
    "distances = {\n",
    "    'Euclidean': pairwise_distances(new_fruit, X, metric='euclidean')[0],\n",
    "    'Manhattan': pairwise_distances(new_fruit, X, metric='manhattan')[0],\n",
    "    'Minkowski (p=3)': pairwise_distances(new_fruit, X, metric='minkowski', p=3)[0],\n",
    "}\n",
    "\n",
    "# Print predicted label and distances\n",
    "print(f\"Predicted label for the new fruit: {predicted_label[0]}\")\n",
    "for metric, dist in distances.items():\n",
    "    print(f\"{metric} distances: {dist}\")\n"
   ]
  },
  {
   "cell_type": "markdown",
   "id": "acf6dd76",
   "metadata": {},
   "source": [
    "### Question 2"
   ]
  },
  {
   "cell_type": "markdown",
   "id": "a5ccef30",
   "metadata": {},
   "source": [
    "### Calculate Entropy"
   ]
  },
  {
   "cell_type": "code",
   "execution_count": 53,
   "id": "46e10418",
   "metadata": {
    "scrolled": true
   },
   "outputs": [
    {
     "name": "stdout",
     "output_type": "stream",
     "text": [
      "Entropy of Diagnosis: 1.000\n"
     ]
    }
   ],
   "source": [
    "import numpy as np\n",
    "\n",
    "# Dataset\n",
    "data = np.array([\n",
    "    [30, 'High', 'High', 'Sick'],\n",
    "    [45, 'Low', 'Normal', 'Healthy'],\n",
    "    [50, 'High', 'High', 'Sick'],\n",
    "    [35, 'Low', 'Normal', 'Healthy'],\n",
    "    [60, 'High', 'High', 'Sick'],\n",
    "    [55, 'Low', 'Normal', 'Healthy'],\n",
    "    [40, 'High', 'High', 'Sick'],\n",
    "    [25, 'Low', 'Normal', 'Healthy'],\n",
    "    [65, 'High', 'High', 'Sick'],\n",
    "    [45, 'Low', 'Normal', 'Healthy']\n",
    "])\n",
    "\n",
    "# Function to calculate entropy\n",
    "def entropy(target_column):\n",
    "    labels, counts = np.unique(target_column, return_counts=True)\n",
    "    probabilities = counts / counts.sum()\n",
    "    return -np.sum(probabilities * np.log2(probabilities))\n",
    "\n",
    "# Step 1: Calculate the entropy for the Diagnosis\n",
    "diagnosis_column = data[:, 3]\n",
    "initial_entropy = entropy(diagnosis_column)\n",
    "print(f\"Entropy of Diagnosis: {initial_entropy:.3f}\")"
   ]
  },
  {
   "cell_type": "markdown",
   "id": "a7178e2c",
   "metadata": {},
   "source": [
    "### Calculated Information Gain"
   ]
  },
  {
   "cell_type": "code",
   "execution_count": 54,
   "id": "22b18387",
   "metadata": {},
   "outputs": [
    {
     "name": "stdout",
     "output_type": "stream",
     "text": [
      "Information Gain for feature 0 (Age): 1.000\n",
      "Information Gain for feature 1 (Blood Pressure): 1.000\n",
      "Information Gain for feature 2 (Cholesterol): 1.000\n"
     ]
    }
   ],
   "source": [
    "# Function to calculate information gain\n",
    "def information_gain(data, feature_index, target_index):\n",
    "    # Total entropy before split\n",
    "    total_entropy = entropy(data[:, target_index])\n",
    "    \n",
    "    # Values and counts of the feature\n",
    "    feature_values, feature_counts = np.unique(data[:, feature_index], return_counts=True)\n",
    "    \n",
    "    # Weighted entropy after the split\n",
    "    weighted_entropy = 0\n",
    "    for value, count in zip(feature_values, feature_counts):\n",
    "        subset = data[data[:, feature_index] == value]\n",
    "        weighted_entropy += (count / np.sum(feature_counts)) * entropy(subset[:, target_index])\n",
    "    \n",
    "    return total_entropy - weighted_entropy\n",
    "\n",
    "# Step 2: Calculate information gain for each feature\n",
    "features = [0, 1, 2]  # Age, Blood Pressure, Cholesterol\n",
    "info_gains = [information_gain(data, f, 3) for f in features]\n",
    "\n",
    "for i, gain in enumerate(info_gains):\n",
    "    print(f\"Information Gain for feature {i} ({['Age', 'Blood Pressure', 'Cholesterol'][i]}): {gain:.3f}\")"
   ]
  },
  {
   "cell_type": "code",
   "execution_count": 55,
   "id": "b421f480",
   "metadata": {},
   "outputs": [
    {
     "name": "stdout",
     "output_type": "stream",
     "text": [
      "Root feature chosen: Age\n"
     ]
    }
   ],
   "source": [
    "# Step 3: Choose the feature with the highest information gain\n",
    "root_feature_index = np.argmax(info_gains)\n",
    "root_feature_name = ['Age', 'Blood Pressure', 'Cholesterol'][root_feature_index]\n",
    "print(f\"Root feature chosen: {root_feature_name}\")"
   ]
  },
  {
   "cell_type": "markdown",
   "id": "07be01f2",
   "metadata": {},
   "source": [
    "### Build Decision Tree"
   ]
  },
  {
   "cell_type": "code",
   "execution_count": 56,
   "id": "ef84e7c2",
   "metadata": {
    "scrolled": true
   },
   "outputs": [
    {
     "name": "stdout",
     "output_type": "stream",
     "text": [
      "Prediction for a 50-year-old patient with low BP and normal cholesterol: Sick\n"
     ]
    }
   ],
   "source": [
    "# Predict for a 50-year-old patient with Low BP and Normal Cholesterol\n",
    "def predict(age, bp, chol):\n",
    "    if bp == 'High':\n",
    "        return 'Sick'  # High BP leads to Sick\n",
    "    else:\n",
    "        if age <= 45:\n",
    "            return 'Healthy'\n",
    "        else:\n",
    "            return 'Sick'\n",
    "\n",
    "prediction = predict(50, 'Low', 'Normal')\n",
    "print(f\"Prediction for a 50-year-old patient with low BP and normal cholesterol: {prediction}\")"
   ]
  },
  {
   "cell_type": "markdown",
   "id": "bc679fb9",
   "metadata": {},
   "source": [
    "### Using Scikit-learn"
   ]
  },
  {
   "cell_type": "code",
   "execution_count": 57,
   "id": "70d0594a",
   "metadata": {},
   "outputs": [
    {
     "name": "stdout",
     "output_type": "stream",
     "text": [
      "Prediction for a 50-year-old patient with low BP and normal cholesterol: Healthy\n"
     ]
    },
    {
     "name": "stderr",
     "output_type": "stream",
     "text": [
      "/usr/lib/python3/dist-packages/sklearn/base.py:493: UserWarning: X does not have valid feature names, but DecisionTreeClassifier was fitted with feature names\n",
      "  warnings.warn(\n"
     ]
    },
    {
     "data": {
      "image/png": "[encoded data removed]",
      "text/plain": [
       "<Figure size 640x480 with 1 Axes>"
      ]
     },
     "metadata": {},
     "output_type": "display_data"
    }
   ],
   "source": [
    "import pandas as pd\n",
    "from sklearn.tree import DecisionTreeClassifier\n",
    "from sklearn import tree\n",
    "\n",
    "# Prepare the dataset\n",
    "data_dict = {\n",
    "    'Age': [30, 45, 50, 35, 60, 55, 40, 25, 65, 45],\n",
    "    'Blood Pressure': ['High', 'Low', 'High', 'Low', 'High', 'Low', 'High', 'Low', 'High', 'Low'],\n",
    "    'Cholesterol': ['High', 'Normal', 'High', 'Normal', 'High', 'Normal', 'High', 'Normal', 'High', 'Normal'],\n",
    "    'Diagnosis': ['Sick', 'Healthy', 'Sick', 'Healthy', 'Sick', 'Healthy', 'Sick', 'Healthy', 'Sick', 'Healthy']\n",
    "}\n",
    "\n",
    "df = pd.DataFrame(data_dict)\n",
    "\n",
    "# Convert categorical variables to numeric\n",
    "df['Blood Pressure'] = df['Blood Pressure'].map({'High': 1, 'Low': 0})\n",
    "df['Cholesterol'] = df['Cholesterol'].map({'High': 1, 'Normal': 0})\n",
    "df['Diagnosis'] = df['Diagnosis'].map({'Sick': 1, 'Healthy': 0})\n",
    "\n",
    "# Features and target\n",
    "X = df[['Age', 'Blood Pressure', 'Cholesterol']]\n",
    "y = df['Diagnosis']\n",
    "\n",
    "# Build the decision tree\n",
    "clf = DecisionTreeClassifier(criterion='entropy')  # ID3 uses entropy\n",
    "clf.fit(X, y)\n",
    "\n",
    "# Display the decision tree\n",
    "tree.plot_tree(clf, feature_names=X.columns, class_names=['Healthy', 'Sick'], filled=True)\n",
    "\n",
    "# Prediction for a new patient\n",
    "new_patient = np.array([[50, 0, 0]])  # 50 years old, Low BP, Normal Cholesterol\n",
    "prediction = clf.predict(new_patient)\n",
    "\n",
    "print(f\"Prediction for a 50-year-old patient with low BP and normal cholesterol: {'Healthy' if prediction[0] == 0 else 'Sick'}\")"
   ]
  }
 ],
 "metadata": {
  "kernelspec": {
   "display_name": "Python 3 (ipykernel)",
   "language": "python",
   "name": "python3"
  },
  "language_info": {
   "codemirror_mode": {
    "name": "ipython",
    "version": 3
   },
   "file_extension": ".py",
   "mimetype": "text/x-python",
   "name": "python",
   "nbconvert_exporter": "python",
   "pygments_lexer": "ipython3",
   "version": "3.12.3"
  }
 },
 "nbformat": 4,
 "nbformat_minor": 5
}
